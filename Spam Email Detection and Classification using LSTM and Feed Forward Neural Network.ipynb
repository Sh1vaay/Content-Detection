{
  "nbformat": 4,
  "nbformat_minor": 0,
  "metadata": {
    "colab": {
      "provenance": [],
      "gpuType": "T4"
    },
    "kernelspec": {
      "name": "python3",
      "display_name": "Python 3"
    },
    "language_info": {
      "name": "python"
    },
    "accelerator": "GPU",
    "gpuClass": "standard"
  },
  "cells": [
    {
      "cell_type": "code",
      "execution_count": null,
      "metadata": {
        "colab": {
          "base_uri": "https://localhost:8080/"
        },
        "id": "chHX3FHzG8Ke",
        "outputId": "9b9eef6b-22f4-4d09-9133-750627e9e0d7"
      },
      "outputs": [
        {
          "output_type": "stream",
          "name": "stdout",
          "text": [
            "Drive already mounted at /content/drive; to attempt to forcibly remount, call drive.mount(\"/content/drive\", force_remount=True).\n"
          ]
        }
      ],
      "source": [
        "# Mount Google Drive on google colab\n",
        "\n",
        "from google.colab import drive\n",
        "\n",
        "drive.mount('/content/drive')"
      ]
    },
    {
      "cell_type": "code",
      "source": [
        "#Importing the required libraries\n",
        "\n",
        "import numpy as np\n",
        "import pandas as pd"
      ],
      "metadata": {
        "id": "EjbO6C99IHL9"
      },
      "execution_count": null,
      "outputs": []
    },
    {
      "cell_type": "code",
      "source": [
        "#Reading the first dataset\n",
        "\n",
        "df1 = pd.read_csv('/content/drive/MyDrive/SpamData/spam1.csv')"
      ],
      "metadata": {
        "id": "94WYCUaFIPw2"
      },
      "execution_count": null,
      "outputs": []
    },
    {
      "cell_type": "code",
      "source": [
        "df1.head()"
      ],
      "metadata": {
        "colab": {
          "base_uri": "https://localhost:8080/",
          "height": 206
        },
        "id": "_rxuZ5vVIhB5",
        "outputId": "0f6e6fdc-bacc-4c05-923b-e7de36d2090b"
      },
      "execution_count": null,
      "outputs": [
        {
          "output_type": "execute_result",
          "data": {
            "text/plain": [
              "   Unnamed: 0                                               Body  Label\n",
              "0           0  \\nSave up to 70% on Life Insurance.\\nWhy Spend...      1\n",
              "1           1  1) Fight The Risk of Cancer!\\nhttp://www.adcli...      1\n",
              "2           2  1) Fight The Risk of Cancer!\\nhttp://www.adcli...      1\n",
              "3           3  ##############################################...      1\n",
              "4           4  I thought you might like these:\\n1) Slim Down ...      1"
            ],
            "text/html": [
              "\n",
              "  <div id=\"df-0f801f84-1e1f-429d-9b94-51931d0e0cc6\">\n",
              "    <div class=\"colab-df-container\">\n",
              "      <div>\n",
              "<style scoped>\n",
              "    .dataframe tbody tr th:only-of-type {\n",
              "        vertical-align: middle;\n",
              "    }\n",
              "\n",
              "    .dataframe tbody tr th {\n",
              "        vertical-align: top;\n",
              "    }\n",
              "\n",
              "    .dataframe thead th {\n",
              "        text-align: right;\n",
              "    }\n",
              "</style>\n",
              "<table border=\"1\" class=\"dataframe\">\n",
              "  <thead>\n",
              "    <tr style=\"text-align: right;\">\n",
              "      <th></th>\n",
              "      <th>Unnamed: 0</th>\n",
              "      <th>Body</th>\n",
              "      <th>Label</th>\n",
              "    </tr>\n",
              "  </thead>\n",
              "  <tbody>\n",
              "    <tr>\n",
              "      <th>0</th>\n",
              "      <td>0</td>\n",
              "      <td>\\nSave up to 70% on Life Insurance.\\nWhy Spend...</td>\n",
              "      <td>1</td>\n",
              "    </tr>\n",
              "    <tr>\n",
              "      <th>1</th>\n",
              "      <td>1</td>\n",
              "      <td>1) Fight The Risk of Cancer!\\nhttp://www.adcli...</td>\n",
              "      <td>1</td>\n",
              "    </tr>\n",
              "    <tr>\n",
              "      <th>2</th>\n",
              "      <td>2</td>\n",
              "      <td>1) Fight The Risk of Cancer!\\nhttp://www.adcli...</td>\n",
              "      <td>1</td>\n",
              "    </tr>\n",
              "    <tr>\n",
              "      <th>3</th>\n",
              "      <td>3</td>\n",
              "      <td>##############################################...</td>\n",
              "      <td>1</td>\n",
              "    </tr>\n",
              "    <tr>\n",
              "      <th>4</th>\n",
              "      <td>4</td>\n",
              "      <td>I thought you might like these:\\n1) Slim Down ...</td>\n",
              "      <td>1</td>\n",
              "    </tr>\n",
              "  </tbody>\n",
              "</table>\n",
              "</div>\n",
              "      <button class=\"colab-df-convert\" onclick=\"convertToInteractive('df-0f801f84-1e1f-429d-9b94-51931d0e0cc6')\"\n",
              "              title=\"Convert this dataframe to an interactive table.\"\n",
              "              style=\"display:none;\">\n",
              "        \n",
              "  <svg xmlns=\"http://www.w3.org/2000/svg\" height=\"24px\"viewBox=\"0 0 24 24\"\n",
              "       width=\"24px\">\n",
              "    <path d=\"M0 0h24v24H0V0z\" fill=\"none\"/>\n",
              "    <path d=\"M18.56 5.44l.94 2.06.94-2.06 2.06-.94-2.06-.94-.94-2.06-.94 2.06-2.06.94zm-11 1L8.5 8.5l.94-2.06 2.06-.94-2.06-.94L8.5 2.5l-.94 2.06-2.06.94zm10 10l.94 2.06.94-2.06 2.06-.94-2.06-.94-.94-2.06-.94 2.06-2.06.94z\"/><path d=\"M17.41 7.96l-1.37-1.37c-.4-.4-.92-.59-1.43-.59-.52 0-1.04.2-1.43.59L10.3 9.45l-7.72 7.72c-.78.78-.78 2.05 0 2.83L4 21.41c.39.39.9.59 1.41.59.51 0 1.02-.2 1.41-.59l7.78-7.78 2.81-2.81c.8-.78.8-2.07 0-2.86zM5.41 20L4 18.59l7.72-7.72 1.47 1.35L5.41 20z\"/>\n",
              "  </svg>\n",
              "      </button>\n",
              "      \n",
              "  <style>\n",
              "    .colab-df-container {\n",
              "      display:flex;\n",
              "      flex-wrap:wrap;\n",
              "      gap: 12px;\n",
              "    }\n",
              "\n",
              "    .colab-df-convert {\n",
              "      background-color: #E8F0FE;\n",
              "      border: none;\n",
              "      border-radius: 50%;\n",
              "      cursor: pointer;\n",
              "      display: none;\n",
              "      fill: #1967D2;\n",
              "      height: 32px;\n",
              "      padding: 0 0 0 0;\n",
              "      width: 32px;\n",
              "    }\n",
              "\n",
              "    .colab-df-convert:hover {\n",
              "      background-color: #E2EBFA;\n",
              "      box-shadow: 0px 1px 2px rgba(60, 64, 67, 0.3), 0px 1px 3px 1px rgba(60, 64, 67, 0.15);\n",
              "      fill: #174EA6;\n",
              "    }\n",
              "\n",
              "    [theme=dark] .colab-df-convert {\n",
              "      background-color: #3B4455;\n",
              "      fill: #D2E3FC;\n",
              "    }\n",
              "\n",
              "    [theme=dark] .colab-df-convert:hover {\n",
              "      background-color: #434B5C;\n",
              "      box-shadow: 0px 1px 3px 1px rgba(0, 0, 0, 0.15);\n",
              "      filter: drop-shadow(0px 1px 2px rgba(0, 0, 0, 0.3));\n",
              "      fill: #FFFFFF;\n",
              "    }\n",
              "  </style>\n",
              "\n",
              "      <script>\n",
              "        const buttonEl =\n",
              "          document.querySelector('#df-0f801f84-1e1f-429d-9b94-51931d0e0cc6 button.colab-df-convert');\n",
              "        buttonEl.style.display =\n",
              "          google.colab.kernel.accessAllowed ? 'block' : 'none';\n",
              "\n",
              "        async function convertToInteractive(key) {\n",
              "          const element = document.querySelector('#df-0f801f84-1e1f-429d-9b94-51931d0e0cc6');\n",
              "          const dataTable =\n",
              "            await google.colab.kernel.invokeFunction('convertToInteractive',\n",
              "                                                     [key], {});\n",
              "          if (!dataTable) return;\n",
              "\n",
              "          const docLinkHtml = 'Like what you see? Visit the ' +\n",
              "            '<a target=\"_blank\" href=https://colab.research.google.com/notebooks/data_table.ipynb>data table notebook</a>'\n",
              "            + ' to learn more about interactive tables.';\n",
              "          element.innerHTML = '';\n",
              "          dataTable['output_type'] = 'display_data';\n",
              "          await google.colab.output.renderOutput(dataTable, element);\n",
              "          const docLink = document.createElement('div');\n",
              "          docLink.innerHTML = docLinkHtml;\n",
              "          element.appendChild(docLink);\n",
              "        }\n",
              "      </script>\n",
              "    </div>\n",
              "  </div>\n",
              "  "
            ]
          },
          "metadata": {},
          "execution_count": 5
        }
      ]
    },
    {
      "cell_type": "code",
      "source": [
        "df1 = df1.drop('Unnamed: 0', axis=1)"
      ],
      "metadata": {
        "id": "tkgQkqV4JMMx"
      },
      "execution_count": null,
      "outputs": []
    },
    {
      "cell_type": "code",
      "source": [
        "df1.head()"
      ],
      "metadata": {
        "colab": {
          "base_uri": "https://localhost:8080/",
          "height": 206
        },
        "id": "akWbg7QbJctR",
        "outputId": "4b2cf085-d9d9-4cda-c8a3-b8bea8e99dd6"
      },
      "execution_count": null,
      "outputs": [
        {
          "output_type": "execute_result",
          "data": {
            "text/plain": [
              "                                                Body  Label\n",
              "0  \\nSave up to 70% on Life Insurance.\\nWhy Spend...      1\n",
              "1  1) Fight The Risk of Cancer!\\nhttp://www.adcli...      1\n",
              "2  1) Fight The Risk of Cancer!\\nhttp://www.adcli...      1\n",
              "3  ##############################################...      1\n",
              "4  I thought you might like these:\\n1) Slim Down ...      1"
            ],
            "text/html": [
              "\n",
              "  <div id=\"df-6cc8c82b-2494-4abe-8be7-c1663d697015\">\n",
              "    <div class=\"colab-df-container\">\n",
              "      <div>\n",
              "<style scoped>\n",
              "    .dataframe tbody tr th:only-of-type {\n",
              "        vertical-align: middle;\n",
              "    }\n",
              "\n",
              "    .dataframe tbody tr th {\n",
              "        vertical-align: top;\n",
              "    }\n",
              "\n",
              "    .dataframe thead th {\n",
              "        text-align: right;\n",
              "    }\n",
              "</style>\n",
              "<table border=\"1\" class=\"dataframe\">\n",
              "  <thead>\n",
              "    <tr style=\"text-align: right;\">\n",
              "      <th></th>\n",
              "      <th>Body</th>\n",
              "      <th>Label</th>\n",
              "    </tr>\n",
              "  </thead>\n",
              "  <tbody>\n",
              "    <tr>\n",
              "      <th>0</th>\n",
              "      <td>\\nSave up to 70% on Life Insurance.\\nWhy Spend...</td>\n",
              "      <td>1</td>\n",
              "    </tr>\n",
              "    <tr>\n",
              "      <th>1</th>\n",
              "      <td>1) Fight The Risk of Cancer!\\nhttp://www.adcli...</td>\n",
              "      <td>1</td>\n",
              "    </tr>\n",
              "    <tr>\n",
              "      <th>2</th>\n",
              "      <td>1) Fight The Risk of Cancer!\\nhttp://www.adcli...</td>\n",
              "      <td>1</td>\n",
              "    </tr>\n",
              "    <tr>\n",
              "      <th>3</th>\n",
              "      <td>##############################################...</td>\n",
              "      <td>1</td>\n",
              "    </tr>\n",
              "    <tr>\n",
              "      <th>4</th>\n",
              "      <td>I thought you might like these:\\n1) Slim Down ...</td>\n",
              "      <td>1</td>\n",
              "    </tr>\n",
              "  </tbody>\n",
              "</table>\n",
              "</div>\n",
              "      <button class=\"colab-df-convert\" onclick=\"convertToInteractive('df-6cc8c82b-2494-4abe-8be7-c1663d697015')\"\n",
              "              title=\"Convert this dataframe to an interactive table.\"\n",
              "              style=\"display:none;\">\n",
              "        \n",
              "  <svg xmlns=\"http://www.w3.org/2000/svg\" height=\"24px\"viewBox=\"0 0 24 24\"\n",
              "       width=\"24px\">\n",
              "    <path d=\"M0 0h24v24H0V0z\" fill=\"none\"/>\n",
              "    <path d=\"M18.56 5.44l.94 2.06.94-2.06 2.06-.94-2.06-.94-.94-2.06-.94 2.06-2.06.94zm-11 1L8.5 8.5l.94-2.06 2.06-.94-2.06-.94L8.5 2.5l-.94 2.06-2.06.94zm10 10l.94 2.06.94-2.06 2.06-.94-2.06-.94-.94-2.06-.94 2.06-2.06.94z\"/><path d=\"M17.41 7.96l-1.37-1.37c-.4-.4-.92-.59-1.43-.59-.52 0-1.04.2-1.43.59L10.3 9.45l-7.72 7.72c-.78.78-.78 2.05 0 2.83L4 21.41c.39.39.9.59 1.41.59.51 0 1.02-.2 1.41-.59l7.78-7.78 2.81-2.81c.8-.78.8-2.07 0-2.86zM5.41 20L4 18.59l7.72-7.72 1.47 1.35L5.41 20z\"/>\n",
              "  </svg>\n",
              "      </button>\n",
              "      \n",
              "  <style>\n",
              "    .colab-df-container {\n",
              "      display:flex;\n",
              "      flex-wrap:wrap;\n",
              "      gap: 12px;\n",
              "    }\n",
              "\n",
              "    .colab-df-convert {\n",
              "      background-color: #E8F0FE;\n",
              "      border: none;\n",
              "      border-radius: 50%;\n",
              "      cursor: pointer;\n",
              "      display: none;\n",
              "      fill: #1967D2;\n",
              "      height: 32px;\n",
              "      padding: 0 0 0 0;\n",
              "      width: 32px;\n",
              "    }\n",
              "\n",
              "    .colab-df-convert:hover {\n",
              "      background-color: #E2EBFA;\n",
              "      box-shadow: 0px 1px 2px rgba(60, 64, 67, 0.3), 0px 1px 3px 1px rgba(60, 64, 67, 0.15);\n",
              "      fill: #174EA6;\n",
              "    }\n",
              "\n",
              "    [theme=dark] .colab-df-convert {\n",
              "      background-color: #3B4455;\n",
              "      fill: #D2E3FC;\n",
              "    }\n",
              "\n",
              "    [theme=dark] .colab-df-convert:hover {\n",
              "      background-color: #434B5C;\n",
              "      box-shadow: 0px 1px 3px 1px rgba(0, 0, 0, 0.15);\n",
              "      filter: drop-shadow(0px 1px 2px rgba(0, 0, 0, 0.3));\n",
              "      fill: #FFFFFF;\n",
              "    }\n",
              "  </style>\n",
              "\n",
              "      <script>\n",
              "        const buttonEl =\n",
              "          document.querySelector('#df-6cc8c82b-2494-4abe-8be7-c1663d697015 button.colab-df-convert');\n",
              "        buttonEl.style.display =\n",
              "          google.colab.kernel.accessAllowed ? 'block' : 'none';\n",
              "\n",
              "        async function convertToInteractive(key) {\n",
              "          const element = document.querySelector('#df-6cc8c82b-2494-4abe-8be7-c1663d697015');\n",
              "          const dataTable =\n",
              "            await google.colab.kernel.invokeFunction('convertToInteractive',\n",
              "                                                     [key], {});\n",
              "          if (!dataTable) return;\n",
              "\n",
              "          const docLinkHtml = 'Like what you see? Visit the ' +\n",
              "            '<a target=\"_blank\" href=https://colab.research.google.com/notebooks/data_table.ipynb>data table notebook</a>'\n",
              "            + ' to learn more about interactive tables.';\n",
              "          element.innerHTML = '';\n",
              "          dataTable['output_type'] = 'display_data';\n",
              "          await google.colab.output.renderOutput(dataTable, element);\n",
              "          const docLink = document.createElement('div');\n",
              "          docLink.innerHTML = docLinkHtml;\n",
              "          element.appendChild(docLink);\n",
              "        }\n",
              "      </script>\n",
              "    </div>\n",
              "  </div>\n",
              "  "
            ]
          },
          "metadata": {},
          "execution_count": 7
        }
      ]
    },
    {
      "cell_type": "code",
      "source": [
        "df1.shape"
      ],
      "metadata": {
        "colab": {
          "base_uri": "https://localhost:8080/"
        },
        "id": "1vfRWVN5Isgn",
        "outputId": "5b23408a-49f6-450b-b8fc-d48c4abad1c8"
      },
      "execution_count": null,
      "outputs": [
        {
          "output_type": "execute_result",
          "data": {
            "text/plain": [
              "(6046, 2)"
            ]
          },
          "metadata": {},
          "execution_count": 8
        }
      ]
    },
    {
      "cell_type": "code",
      "source": [],
      "metadata": {
        "id": "IsRXeMybLV1B"
      },
      "execution_count": null,
      "outputs": []
    },
    {
      "cell_type": "code",
      "source": [
        "#Reading the second dataset\n",
        "\n",
        "df2 = pd.read_csv('/content/drive/MyDrive/SpamData/spam2.csv')"
      ],
      "metadata": {
        "id": "PoM2COHsIms1"
      },
      "execution_count": null,
      "outputs": []
    },
    {
      "cell_type": "code",
      "source": [
        "df2.head()"
      ],
      "metadata": {
        "colab": {
          "base_uri": "https://localhost:8080/",
          "height": 206
        },
        "id": "ywXslS_SIuqo",
        "outputId": "fe509646-a38a-4079-df33-69547ac6bc8c"
      },
      "execution_count": null,
      "outputs": [
        {
          "output_type": "execute_result",
          "data": {
            "text/plain": [
              "   Unnamed: 0.1  Unnamed: 0  \\\n",
              "0          2469        2469   \n",
              "1          5063        5063   \n",
              "2         12564       12564   \n",
              "3          2796        2796   \n",
              "4          1468        1468   \n",
              "\n",
              "                                                Body  Label  \n",
              "0  Subject: stock promo mover : cwtd\\n * * * urge...      1  \n",
              "1  Subject: are you listed in major search engine...      1  \n",
              "2  Subject: important information thu , 30 jun 20...      1  \n",
              "3  Subject: = ? utf - 8 ? q ? bask your life with...      1  \n",
              "4  Subject: \" bidstogo \" is places to go , things...      1  "
            ],
            "text/html": [
              "\n",
              "  <div id=\"df-f5d79e7b-9887-4b72-a9a3-2b099726792b\">\n",
              "    <div class=\"colab-df-container\">\n",
              "      <div>\n",
              "<style scoped>\n",
              "    .dataframe tbody tr th:only-of-type {\n",
              "        vertical-align: middle;\n",
              "    }\n",
              "\n",
              "    .dataframe tbody tr th {\n",
              "        vertical-align: top;\n",
              "    }\n",
              "\n",
              "    .dataframe thead th {\n",
              "        text-align: right;\n",
              "    }\n",
              "</style>\n",
              "<table border=\"1\" class=\"dataframe\">\n",
              "  <thead>\n",
              "    <tr style=\"text-align: right;\">\n",
              "      <th></th>\n",
              "      <th>Unnamed: 0.1</th>\n",
              "      <th>Unnamed: 0</th>\n",
              "      <th>Body</th>\n",
              "      <th>Label</th>\n",
              "    </tr>\n",
              "  </thead>\n",
              "  <tbody>\n",
              "    <tr>\n",
              "      <th>0</th>\n",
              "      <td>2469</td>\n",
              "      <td>2469</td>\n",
              "      <td>Subject: stock promo mover : cwtd\\n * * * urge...</td>\n",
              "      <td>1</td>\n",
              "    </tr>\n",
              "    <tr>\n",
              "      <th>1</th>\n",
              "      <td>5063</td>\n",
              "      <td>5063</td>\n",
              "      <td>Subject: are you listed in major search engine...</td>\n",
              "      <td>1</td>\n",
              "    </tr>\n",
              "    <tr>\n",
              "      <th>2</th>\n",
              "      <td>12564</td>\n",
              "      <td>12564</td>\n",
              "      <td>Subject: important information thu , 30 jun 20...</td>\n",
              "      <td>1</td>\n",
              "    </tr>\n",
              "    <tr>\n",
              "      <th>3</th>\n",
              "      <td>2796</td>\n",
              "      <td>2796</td>\n",
              "      <td>Subject: = ? utf - 8 ? q ? bask your life with...</td>\n",
              "      <td>1</td>\n",
              "    </tr>\n",
              "    <tr>\n",
              "      <th>4</th>\n",
              "      <td>1468</td>\n",
              "      <td>1468</td>\n",
              "      <td>Subject: \" bidstogo \" is places to go , things...</td>\n",
              "      <td>1</td>\n",
              "    </tr>\n",
              "  </tbody>\n",
              "</table>\n",
              "</div>\n",
              "      <button class=\"colab-df-convert\" onclick=\"convertToInteractive('df-f5d79e7b-9887-4b72-a9a3-2b099726792b')\"\n",
              "              title=\"Convert this dataframe to an interactive table.\"\n",
              "              style=\"display:none;\">\n",
              "        \n",
              "  <svg xmlns=\"http://www.w3.org/2000/svg\" height=\"24px\"viewBox=\"0 0 24 24\"\n",
              "       width=\"24px\">\n",
              "    <path d=\"M0 0h24v24H0V0z\" fill=\"none\"/>\n",
              "    <path d=\"M18.56 5.44l.94 2.06.94-2.06 2.06-.94-2.06-.94-.94-2.06-.94 2.06-2.06.94zm-11 1L8.5 8.5l.94-2.06 2.06-.94-2.06-.94L8.5 2.5l-.94 2.06-2.06.94zm10 10l.94 2.06.94-2.06 2.06-.94-2.06-.94-.94-2.06-.94 2.06-2.06.94z\"/><path d=\"M17.41 7.96l-1.37-1.37c-.4-.4-.92-.59-1.43-.59-.52 0-1.04.2-1.43.59L10.3 9.45l-7.72 7.72c-.78.78-.78 2.05 0 2.83L4 21.41c.39.39.9.59 1.41.59.51 0 1.02-.2 1.41-.59l7.78-7.78 2.81-2.81c.8-.78.8-2.07 0-2.86zM5.41 20L4 18.59l7.72-7.72 1.47 1.35L5.41 20z\"/>\n",
              "  </svg>\n",
              "      </button>\n",
              "      \n",
              "  <style>\n",
              "    .colab-df-container {\n",
              "      display:flex;\n",
              "      flex-wrap:wrap;\n",
              "      gap: 12px;\n",
              "    }\n",
              "\n",
              "    .colab-df-convert {\n",
              "      background-color: #E8F0FE;\n",
              "      border: none;\n",
              "      border-radius: 50%;\n",
              "      cursor: pointer;\n",
              "      display: none;\n",
              "      fill: #1967D2;\n",
              "      height: 32px;\n",
              "      padding: 0 0 0 0;\n",
              "      width: 32px;\n",
              "    }\n",
              "\n",
              "    .colab-df-convert:hover {\n",
              "      background-color: #E2EBFA;\n",
              "      box-shadow: 0px 1px 2px rgba(60, 64, 67, 0.3), 0px 1px 3px 1px rgba(60, 64, 67, 0.15);\n",
              "      fill: #174EA6;\n",
              "    }\n",
              "\n",
              "    [theme=dark] .colab-df-convert {\n",
              "      background-color: #3B4455;\n",
              "      fill: #D2E3FC;\n",
              "    }\n",
              "\n",
              "    [theme=dark] .colab-df-convert:hover {\n",
              "      background-color: #434B5C;\n",
              "      box-shadow: 0px 1px 3px 1px rgba(0, 0, 0, 0.15);\n",
              "      filter: drop-shadow(0px 1px 2px rgba(0, 0, 0, 0.3));\n",
              "      fill: #FFFFFF;\n",
              "    }\n",
              "  </style>\n",
              "\n",
              "      <script>\n",
              "        const buttonEl =\n",
              "          document.querySelector('#df-f5d79e7b-9887-4b72-a9a3-2b099726792b button.colab-df-convert');\n",
              "        buttonEl.style.display =\n",
              "          google.colab.kernel.accessAllowed ? 'block' : 'none';\n",
              "\n",
              "        async function convertToInteractive(key) {\n",
              "          const element = document.querySelector('#df-f5d79e7b-9887-4b72-a9a3-2b099726792b');\n",
              "          const dataTable =\n",
              "            await google.colab.kernel.invokeFunction('convertToInteractive',\n",
              "                                                     [key], {});\n",
              "          if (!dataTable) return;\n",
              "\n",
              "          const docLinkHtml = 'Like what you see? Visit the ' +\n",
              "            '<a target=\"_blank\" href=https://colab.research.google.com/notebooks/data_table.ipynb>data table notebook</a>'\n",
              "            + ' to learn more about interactive tables.';\n",
              "          element.innerHTML = '';\n",
              "          dataTable['output_type'] = 'display_data';\n",
              "          await google.colab.output.renderOutput(dataTable, element);\n",
              "          const docLink = document.createElement('div');\n",
              "          docLink.innerHTML = docLinkHtml;\n",
              "          element.appendChild(docLink);\n",
              "        }\n",
              "      </script>\n",
              "    </div>\n",
              "  </div>\n",
              "  "
            ]
          },
          "metadata": {},
          "execution_count": 10
        }
      ]
    },
    {
      "cell_type": "code",
      "source": [
        "columns_to_drop = ['Unnamed: 0.1', 'Unnamed: 0']\n",
        "df2 = df2.drop(columns_to_drop, axis=1)"
      ],
      "metadata": {
        "id": "hCUm1hD-Jj4Y"
      },
      "execution_count": null,
      "outputs": []
    },
    {
      "cell_type": "code",
      "source": [
        "df2.shape"
      ],
      "metadata": {
        "colab": {
          "base_uri": "https://localhost:8080/"
        },
        "id": "N0yN2or_Iy6Z",
        "outputId": "1d32bb87-8fb1-45e9-f751-84ec48afa6c5"
      },
      "execution_count": null,
      "outputs": [
        {
          "output_type": "execute_result",
          "data": {
            "text/plain": [
              "(10000, 2)"
            ]
          },
          "metadata": {},
          "execution_count": 12
        }
      ]
    },
    {
      "cell_type": "code",
      "source": [
        "df2.head()"
      ],
      "metadata": {
        "colab": {
          "base_uri": "https://localhost:8080/",
          "height": 206
        },
        "id": "nw6qEdttJ_yS",
        "outputId": "8ef862e8-65f1-4041-f9dc-de6ac7d75e6d"
      },
      "execution_count": null,
      "outputs": [
        {
          "output_type": "execute_result",
          "data": {
            "text/plain": [
              "                                                Body  Label\n",
              "0  Subject: stock promo mover : cwtd\\n * * * urge...      1\n",
              "1  Subject: are you listed in major search engine...      1\n",
              "2  Subject: important information thu , 30 jun 20...      1\n",
              "3  Subject: = ? utf - 8 ? q ? bask your life with...      1\n",
              "4  Subject: \" bidstogo \" is places to go , things...      1"
            ],
            "text/html": [
              "\n",
              "  <div id=\"df-56205e01-7cd1-4573-9349-f85ad4341173\">\n",
              "    <div class=\"colab-df-container\">\n",
              "      <div>\n",
              "<style scoped>\n",
              "    .dataframe tbody tr th:only-of-type {\n",
              "        vertical-align: middle;\n",
              "    }\n",
              "\n",
              "    .dataframe tbody tr th {\n",
              "        vertical-align: top;\n",
              "    }\n",
              "\n",
              "    .dataframe thead th {\n",
              "        text-align: right;\n",
              "    }\n",
              "</style>\n",
              "<table border=\"1\" class=\"dataframe\">\n",
              "  <thead>\n",
              "    <tr style=\"text-align: right;\">\n",
              "      <th></th>\n",
              "      <th>Body</th>\n",
              "      <th>Label</th>\n",
              "    </tr>\n",
              "  </thead>\n",
              "  <tbody>\n",
              "    <tr>\n",
              "      <th>0</th>\n",
              "      <td>Subject: stock promo mover : cwtd\\n * * * urge...</td>\n",
              "      <td>1</td>\n",
              "    </tr>\n",
              "    <tr>\n",
              "      <th>1</th>\n",
              "      <td>Subject: are you listed in major search engine...</td>\n",
              "      <td>1</td>\n",
              "    </tr>\n",
              "    <tr>\n",
              "      <th>2</th>\n",
              "      <td>Subject: important information thu , 30 jun 20...</td>\n",
              "      <td>1</td>\n",
              "    </tr>\n",
              "    <tr>\n",
              "      <th>3</th>\n",
              "      <td>Subject: = ? utf - 8 ? q ? bask your life with...</td>\n",
              "      <td>1</td>\n",
              "    </tr>\n",
              "    <tr>\n",
              "      <th>4</th>\n",
              "      <td>Subject: \" bidstogo \" is places to go , things...</td>\n",
              "      <td>1</td>\n",
              "    </tr>\n",
              "  </tbody>\n",
              "</table>\n",
              "</div>\n",
              "      <button class=\"colab-df-convert\" onclick=\"convertToInteractive('df-56205e01-7cd1-4573-9349-f85ad4341173')\"\n",
              "              title=\"Convert this dataframe to an interactive table.\"\n",
              "              style=\"display:none;\">\n",
              "        \n",
              "  <svg xmlns=\"http://www.w3.org/2000/svg\" height=\"24px\"viewBox=\"0 0 24 24\"\n",
              "       width=\"24px\">\n",
              "    <path d=\"M0 0h24v24H0V0z\" fill=\"none\"/>\n",
              "    <path d=\"M18.56 5.44l.94 2.06.94-2.06 2.06-.94-2.06-.94-.94-2.06-.94 2.06-2.06.94zm-11 1L8.5 8.5l.94-2.06 2.06-.94-2.06-.94L8.5 2.5l-.94 2.06-2.06.94zm10 10l.94 2.06.94-2.06 2.06-.94-2.06-.94-.94-2.06-.94 2.06-2.06.94z\"/><path d=\"M17.41 7.96l-1.37-1.37c-.4-.4-.92-.59-1.43-.59-.52 0-1.04.2-1.43.59L10.3 9.45l-7.72 7.72c-.78.78-.78 2.05 0 2.83L4 21.41c.39.39.9.59 1.41.59.51 0 1.02-.2 1.41-.59l7.78-7.78 2.81-2.81c.8-.78.8-2.07 0-2.86zM5.41 20L4 18.59l7.72-7.72 1.47 1.35L5.41 20z\"/>\n",
              "  </svg>\n",
              "      </button>\n",
              "      \n",
              "  <style>\n",
              "    .colab-df-container {\n",
              "      display:flex;\n",
              "      flex-wrap:wrap;\n",
              "      gap: 12px;\n",
              "    }\n",
              "\n",
              "    .colab-df-convert {\n",
              "      background-color: #E8F0FE;\n",
              "      border: none;\n",
              "      border-radius: 50%;\n",
              "      cursor: pointer;\n",
              "      display: none;\n",
              "      fill: #1967D2;\n",
              "      height: 32px;\n",
              "      padding: 0 0 0 0;\n",
              "      width: 32px;\n",
              "    }\n",
              "\n",
              "    .colab-df-convert:hover {\n",
              "      background-color: #E2EBFA;\n",
              "      box-shadow: 0px 1px 2px rgba(60, 64, 67, 0.3), 0px 1px 3px 1px rgba(60, 64, 67, 0.15);\n",
              "      fill: #174EA6;\n",
              "    }\n",
              "\n",
              "    [theme=dark] .colab-df-convert {\n",
              "      background-color: #3B4455;\n",
              "      fill: #D2E3FC;\n",
              "    }\n",
              "\n",
              "    [theme=dark] .colab-df-convert:hover {\n",
              "      background-color: #434B5C;\n",
              "      box-shadow: 0px 1px 3px 1px rgba(0, 0, 0, 0.15);\n",
              "      filter: drop-shadow(0px 1px 2px rgba(0, 0, 0, 0.3));\n",
              "      fill: #FFFFFF;\n",
              "    }\n",
              "  </style>\n",
              "\n",
              "      <script>\n",
              "        const buttonEl =\n",
              "          document.querySelector('#df-56205e01-7cd1-4573-9349-f85ad4341173 button.colab-df-convert');\n",
              "        buttonEl.style.display =\n",
              "          google.colab.kernel.accessAllowed ? 'block' : 'none';\n",
              "\n",
              "        async function convertToInteractive(key) {\n",
              "          const element = document.querySelector('#df-56205e01-7cd1-4573-9349-f85ad4341173');\n",
              "          const dataTable =\n",
              "            await google.colab.kernel.invokeFunction('convertToInteractive',\n",
              "                                                     [key], {});\n",
              "          if (!dataTable) return;\n",
              "\n",
              "          const docLinkHtml = 'Like what you see? Visit the ' +\n",
              "            '<a target=\"_blank\" href=https://colab.research.google.com/notebooks/data_table.ipynb>data table notebook</a>'\n",
              "            + ' to learn more about interactive tables.';\n",
              "          element.innerHTML = '';\n",
              "          dataTable['output_type'] = 'display_data';\n",
              "          await google.colab.output.renderOutput(dataTable, element);\n",
              "          const docLink = document.createElement('div');\n",
              "          docLink.innerHTML = docLinkHtml;\n",
              "          element.appendChild(docLink);\n",
              "        }\n",
              "      </script>\n",
              "    </div>\n",
              "  </div>\n",
              "  "
            ]
          },
          "metadata": {},
          "execution_count": 13
        }
      ]
    },
    {
      "cell_type": "code",
      "source": [],
      "metadata": {
        "id": "afBt8e-ILbUM"
      },
      "execution_count": null,
      "outputs": []
    },
    {
      "cell_type": "code",
      "source": [
        "#Reading the third dataset\n",
        "\n",
        "df3 = pd.read_csv('/content/drive/MyDrive/SpamData/spam3.csv')"
      ],
      "metadata": {
        "id": "RH2RPz8_I-nq"
      },
      "execution_count": null,
      "outputs": []
    },
    {
      "cell_type": "code",
      "source": [
        "df3.head()"
      ],
      "metadata": {
        "colab": {
          "base_uri": "https://localhost:8080/",
          "height": 206
        },
        "id": "io7V5sUOJEIU",
        "outputId": "70329d60-ada2-4b63-d4e7-6c7d496db87f"
      },
      "execution_count": null,
      "outputs": [
        {
          "output_type": "execute_result",
          "data": {
            "text/plain": [
              "   Unnamed: 0                                               Body  Label\n",
              "0           0  Subject: great part-time or summer job !\\n \\n ...      1\n",
              "1           1  Subject: auto insurance rates too high ?\\n \\n ...      1\n",
              "2           2  Subject: do want the best and economical hunti...      1\n",
              "3           3  Subject: email 57 million people for $ 99\\n \\n...      1\n",
              "4           4  Subject: do n't miss these !\\n \\n attention ! ...      1"
            ],
            "text/html": [
              "\n",
              "  <div id=\"df-fda91ce9-028e-4945-acee-61dc449664ae\">\n",
              "    <div class=\"colab-df-container\">\n",
              "      <div>\n",
              "<style scoped>\n",
              "    .dataframe tbody tr th:only-of-type {\n",
              "        vertical-align: middle;\n",
              "    }\n",
              "\n",
              "    .dataframe tbody tr th {\n",
              "        vertical-align: top;\n",
              "    }\n",
              "\n",
              "    .dataframe thead th {\n",
              "        text-align: right;\n",
              "    }\n",
              "</style>\n",
              "<table border=\"1\" class=\"dataframe\">\n",
              "  <thead>\n",
              "    <tr style=\"text-align: right;\">\n",
              "      <th></th>\n",
              "      <th>Unnamed: 0</th>\n",
              "      <th>Body</th>\n",
              "      <th>Label</th>\n",
              "    </tr>\n",
              "  </thead>\n",
              "  <tbody>\n",
              "    <tr>\n",
              "      <th>0</th>\n",
              "      <td>0</td>\n",
              "      <td>Subject: great part-time or summer job !\\n \\n ...</td>\n",
              "      <td>1</td>\n",
              "    </tr>\n",
              "    <tr>\n",
              "      <th>1</th>\n",
              "      <td>1</td>\n",
              "      <td>Subject: auto insurance rates too high ?\\n \\n ...</td>\n",
              "      <td>1</td>\n",
              "    </tr>\n",
              "    <tr>\n",
              "      <th>2</th>\n",
              "      <td>2</td>\n",
              "      <td>Subject: do want the best and economical hunti...</td>\n",
              "      <td>1</td>\n",
              "    </tr>\n",
              "    <tr>\n",
              "      <th>3</th>\n",
              "      <td>3</td>\n",
              "      <td>Subject: email 57 million people for $ 99\\n \\n...</td>\n",
              "      <td>1</td>\n",
              "    </tr>\n",
              "    <tr>\n",
              "      <th>4</th>\n",
              "      <td>4</td>\n",
              "      <td>Subject: do n't miss these !\\n \\n attention ! ...</td>\n",
              "      <td>1</td>\n",
              "    </tr>\n",
              "  </tbody>\n",
              "</table>\n",
              "</div>\n",
              "      <button class=\"colab-df-convert\" onclick=\"convertToInteractive('df-fda91ce9-028e-4945-acee-61dc449664ae')\"\n",
              "              title=\"Convert this dataframe to an interactive table.\"\n",
              "              style=\"display:none;\">\n",
              "        \n",
              "  <svg xmlns=\"http://www.w3.org/2000/svg\" height=\"24px\"viewBox=\"0 0 24 24\"\n",
              "       width=\"24px\">\n",
              "    <path d=\"M0 0h24v24H0V0z\" fill=\"none\"/>\n",
              "    <path d=\"M18.56 5.44l.94 2.06.94-2.06 2.06-.94-2.06-.94-.94-2.06-.94 2.06-2.06.94zm-11 1L8.5 8.5l.94-2.06 2.06-.94-2.06-.94L8.5 2.5l-.94 2.06-2.06.94zm10 10l.94 2.06.94-2.06 2.06-.94-2.06-.94-.94-2.06-.94 2.06-2.06.94z\"/><path d=\"M17.41 7.96l-1.37-1.37c-.4-.4-.92-.59-1.43-.59-.52 0-1.04.2-1.43.59L10.3 9.45l-7.72 7.72c-.78.78-.78 2.05 0 2.83L4 21.41c.39.39.9.59 1.41.59.51 0 1.02-.2 1.41-.59l7.78-7.78 2.81-2.81c.8-.78.8-2.07 0-2.86zM5.41 20L4 18.59l7.72-7.72 1.47 1.35L5.41 20z\"/>\n",
              "  </svg>\n",
              "      </button>\n",
              "      \n",
              "  <style>\n",
              "    .colab-df-container {\n",
              "      display:flex;\n",
              "      flex-wrap:wrap;\n",
              "      gap: 12px;\n",
              "    }\n",
              "\n",
              "    .colab-df-convert {\n",
              "      background-color: #E8F0FE;\n",
              "      border: none;\n",
              "      border-radius: 50%;\n",
              "      cursor: pointer;\n",
              "      display: none;\n",
              "      fill: #1967D2;\n",
              "      height: 32px;\n",
              "      padding: 0 0 0 0;\n",
              "      width: 32px;\n",
              "    }\n",
              "\n",
              "    .colab-df-convert:hover {\n",
              "      background-color: #E2EBFA;\n",
              "      box-shadow: 0px 1px 2px rgba(60, 64, 67, 0.3), 0px 1px 3px 1px rgba(60, 64, 67, 0.15);\n",
              "      fill: #174EA6;\n",
              "    }\n",
              "\n",
              "    [theme=dark] .colab-df-convert {\n",
              "      background-color: #3B4455;\n",
              "      fill: #D2E3FC;\n",
              "    }\n",
              "\n",
              "    [theme=dark] .colab-df-convert:hover {\n",
              "      background-color: #434B5C;\n",
              "      box-shadow: 0px 1px 3px 1px rgba(0, 0, 0, 0.15);\n",
              "      filter: drop-shadow(0px 1px 2px rgba(0, 0, 0, 0.3));\n",
              "      fill: #FFFFFF;\n",
              "    }\n",
              "  </style>\n",
              "\n",
              "      <script>\n",
              "        const buttonEl =\n",
              "          document.querySelector('#df-fda91ce9-028e-4945-acee-61dc449664ae button.colab-df-convert');\n",
              "        buttonEl.style.display =\n",
              "          google.colab.kernel.accessAllowed ? 'block' : 'none';\n",
              "\n",
              "        async function convertToInteractive(key) {\n",
              "          const element = document.querySelector('#df-fda91ce9-028e-4945-acee-61dc449664ae');\n",
              "          const dataTable =\n",
              "            await google.colab.kernel.invokeFunction('convertToInteractive',\n",
              "                                                     [key], {});\n",
              "          if (!dataTable) return;\n",
              "\n",
              "          const docLinkHtml = 'Like what you see? Visit the ' +\n",
              "            '<a target=\"_blank\" href=https://colab.research.google.com/notebooks/data_table.ipynb>data table notebook</a>'\n",
              "            + ' to learn more about interactive tables.';\n",
              "          element.innerHTML = '';\n",
              "          dataTable['output_type'] = 'display_data';\n",
              "          await google.colab.output.renderOutput(dataTable, element);\n",
              "          const docLink = document.createElement('div');\n",
              "          docLink.innerHTML = docLinkHtml;\n",
              "          element.appendChild(docLink);\n",
              "        }\n",
              "      </script>\n",
              "    </div>\n",
              "  </div>\n",
              "  "
            ]
          },
          "metadata": {},
          "execution_count": 15
        }
      ]
    },
    {
      "cell_type": "code",
      "source": [
        "df3.shape"
      ],
      "metadata": {
        "colab": {
          "base_uri": "https://localhost:8080/"
        },
        "id": "8XapP-XrJHfd",
        "outputId": "24d8ce66-3ea2-4989-b22e-98ab5157cda6"
      },
      "execution_count": null,
      "outputs": [
        {
          "output_type": "execute_result",
          "data": {
            "text/plain": [
              "(2605, 3)"
            ]
          },
          "metadata": {},
          "execution_count": 16
        }
      ]
    },
    {
      "cell_type": "code",
      "source": [
        "df3 = df3.drop('Unnamed: 0', axis=1)"
      ],
      "metadata": {
        "id": "uazpfrLPJKMS"
      },
      "execution_count": null,
      "outputs": []
    },
    {
      "cell_type": "code",
      "source": [
        "df3.head()"
      ],
      "metadata": {
        "colab": {
          "base_uri": "https://localhost:8080/",
          "height": 206
        },
        "id": "IUUnsV3tKKxE",
        "outputId": "12f31e73-4ab1-41a7-d3f3-0510cb8b772e"
      },
      "execution_count": null,
      "outputs": [
        {
          "output_type": "execute_result",
          "data": {
            "text/plain": [
              "                                                Body  Label\n",
              "0  Subject: great part-time or summer job !\\n \\n ...      1\n",
              "1  Subject: auto insurance rates too high ?\\n \\n ...      1\n",
              "2  Subject: do want the best and economical hunti...      1\n",
              "3  Subject: email 57 million people for $ 99\\n \\n...      1\n",
              "4  Subject: do n't miss these !\\n \\n attention ! ...      1"
            ],
            "text/html": [
              "\n",
              "  <div id=\"df-782f469a-4db0-4dad-bdd7-b92ebcd551ab\">\n",
              "    <div class=\"colab-df-container\">\n",
              "      <div>\n",
              "<style scoped>\n",
              "    .dataframe tbody tr th:only-of-type {\n",
              "        vertical-align: middle;\n",
              "    }\n",
              "\n",
              "    .dataframe tbody tr th {\n",
              "        vertical-align: top;\n",
              "    }\n",
              "\n",
              "    .dataframe thead th {\n",
              "        text-align: right;\n",
              "    }\n",
              "</style>\n",
              "<table border=\"1\" class=\"dataframe\">\n",
              "  <thead>\n",
              "    <tr style=\"text-align: right;\">\n",
              "      <th></th>\n",
              "      <th>Body</th>\n",
              "      <th>Label</th>\n",
              "    </tr>\n",
              "  </thead>\n",
              "  <tbody>\n",
              "    <tr>\n",
              "      <th>0</th>\n",
              "      <td>Subject: great part-time or summer job !\\n \\n ...</td>\n",
              "      <td>1</td>\n",
              "    </tr>\n",
              "    <tr>\n",
              "      <th>1</th>\n",
              "      <td>Subject: auto insurance rates too high ?\\n \\n ...</td>\n",
              "      <td>1</td>\n",
              "    </tr>\n",
              "    <tr>\n",
              "      <th>2</th>\n",
              "      <td>Subject: do want the best and economical hunti...</td>\n",
              "      <td>1</td>\n",
              "    </tr>\n",
              "    <tr>\n",
              "      <th>3</th>\n",
              "      <td>Subject: email 57 million people for $ 99\\n \\n...</td>\n",
              "      <td>1</td>\n",
              "    </tr>\n",
              "    <tr>\n",
              "      <th>4</th>\n",
              "      <td>Subject: do n't miss these !\\n \\n attention ! ...</td>\n",
              "      <td>1</td>\n",
              "    </tr>\n",
              "  </tbody>\n",
              "</table>\n",
              "</div>\n",
              "      <button class=\"colab-df-convert\" onclick=\"convertToInteractive('df-782f469a-4db0-4dad-bdd7-b92ebcd551ab')\"\n",
              "              title=\"Convert this dataframe to an interactive table.\"\n",
              "              style=\"display:none;\">\n",
              "        \n",
              "  <svg xmlns=\"http://www.w3.org/2000/svg\" height=\"24px\"viewBox=\"0 0 24 24\"\n",
              "       width=\"24px\">\n",
              "    <path d=\"M0 0h24v24H0V0z\" fill=\"none\"/>\n",
              "    <path d=\"M18.56 5.44l.94 2.06.94-2.06 2.06-.94-2.06-.94-.94-2.06-.94 2.06-2.06.94zm-11 1L8.5 8.5l.94-2.06 2.06-.94-2.06-.94L8.5 2.5l-.94 2.06-2.06.94zm10 10l.94 2.06.94-2.06 2.06-.94-2.06-.94-.94-2.06-.94 2.06-2.06.94z\"/><path d=\"M17.41 7.96l-1.37-1.37c-.4-.4-.92-.59-1.43-.59-.52 0-1.04.2-1.43.59L10.3 9.45l-7.72 7.72c-.78.78-.78 2.05 0 2.83L4 21.41c.39.39.9.59 1.41.59.51 0 1.02-.2 1.41-.59l7.78-7.78 2.81-2.81c.8-.78.8-2.07 0-2.86zM5.41 20L4 18.59l7.72-7.72 1.47 1.35L5.41 20z\"/>\n",
              "  </svg>\n",
              "      </button>\n",
              "      \n",
              "  <style>\n",
              "    .colab-df-container {\n",
              "      display:flex;\n",
              "      flex-wrap:wrap;\n",
              "      gap: 12px;\n",
              "    }\n",
              "\n",
              "    .colab-df-convert {\n",
              "      background-color: #E8F0FE;\n",
              "      border: none;\n",
              "      border-radius: 50%;\n",
              "      cursor: pointer;\n",
              "      display: none;\n",
              "      fill: #1967D2;\n",
              "      height: 32px;\n",
              "      padding: 0 0 0 0;\n",
              "      width: 32px;\n",
              "    }\n",
              "\n",
              "    .colab-df-convert:hover {\n",
              "      background-color: #E2EBFA;\n",
              "      box-shadow: 0px 1px 2px rgba(60, 64, 67, 0.3), 0px 1px 3px 1px rgba(60, 64, 67, 0.15);\n",
              "      fill: #174EA6;\n",
              "    }\n",
              "\n",
              "    [theme=dark] .colab-df-convert {\n",
              "      background-color: #3B4455;\n",
              "      fill: #D2E3FC;\n",
              "    }\n",
              "\n",
              "    [theme=dark] .colab-df-convert:hover {\n",
              "      background-color: #434B5C;\n",
              "      box-shadow: 0px 1px 3px 1px rgba(0, 0, 0, 0.15);\n",
              "      filter: drop-shadow(0px 1px 2px rgba(0, 0, 0, 0.3));\n",
              "      fill: #FFFFFF;\n",
              "    }\n",
              "  </style>\n",
              "\n",
              "      <script>\n",
              "        const buttonEl =\n",
              "          document.querySelector('#df-782f469a-4db0-4dad-bdd7-b92ebcd551ab button.colab-df-convert');\n",
              "        buttonEl.style.display =\n",
              "          google.colab.kernel.accessAllowed ? 'block' : 'none';\n",
              "\n",
              "        async function convertToInteractive(key) {\n",
              "          const element = document.querySelector('#df-782f469a-4db0-4dad-bdd7-b92ebcd551ab');\n",
              "          const dataTable =\n",
              "            await google.colab.kernel.invokeFunction('convertToInteractive',\n",
              "                                                     [key], {});\n",
              "          if (!dataTable) return;\n",
              "\n",
              "          const docLinkHtml = 'Like what you see? Visit the ' +\n",
              "            '<a target=\"_blank\" href=https://colab.research.google.com/notebooks/data_table.ipynb>data table notebook</a>'\n",
              "            + ' to learn more about interactive tables.';\n",
              "          element.innerHTML = '';\n",
              "          dataTable['output_type'] = 'display_data';\n",
              "          await google.colab.output.renderOutput(dataTable, element);\n",
              "          const docLink = document.createElement('div');\n",
              "          docLink.innerHTML = docLinkHtml;\n",
              "          element.appendChild(docLink);\n",
              "        }\n",
              "      </script>\n",
              "    </div>\n",
              "  </div>\n",
              "  "
            ]
          },
          "metadata": {},
          "execution_count": 18
        }
      ]
    },
    {
      "cell_type": "code",
      "source": [
        "df3.shape"
      ],
      "metadata": {
        "colab": {
          "base_uri": "https://localhost:8080/"
        },
        "id": "3kk8h5HfKH6D",
        "outputId": "54a920d1-98c4-4754-a304-73e4cb9814be"
      },
      "execution_count": null,
      "outputs": [
        {
          "output_type": "execute_result",
          "data": {
            "text/plain": [
              "(2605, 2)"
            ]
          },
          "metadata": {},
          "execution_count": 19
        }
      ]
    },
    {
      "cell_type": "code",
      "source": [],
      "metadata": {
        "id": "wFjYJxwY7dig"
      },
      "execution_count": null,
      "outputs": []
    },
    {
      "cell_type": "code",
      "source": [
        "# Merge the datasets into one dataset\n",
        "merged_df = pd.concat([df1, df2, df3], ignore_index=True)\n",
        "\n",
        "# Display the merged dataset\n",
        "print(merged_df)"
      ],
      "metadata": {
        "colab": {
          "base_uri": "https://localhost:8080/"
        },
        "id": "yaMKDOTuKNdj",
        "outputId": "e5e30e2d-7c0f-4d06-f04b-7d254b198127"
      },
      "execution_count": null,
      "outputs": [
        {
          "output_type": "stream",
          "name": "stdout",
          "text": [
            "                                                    Body  Label\n",
            "0      \\nSave up to 70% on Life Insurance.\\nWhy Spend...      1\n",
            "1      1) Fight The Risk of Cancer!\\nhttp://www.adcli...      1\n",
            "2      1) Fight The Risk of Cancer!\\nhttp://www.adcli...      1\n",
            "3      ##############################################...      1\n",
            "4      I thought you might like these:\\n1) Slim Down ...      1\n",
            "...                                                  ...    ...\n",
            "18646  Subject: computationally - intensive methods i...      0\n",
            "18647  Subject: books : a survey of american linguist...      0\n",
            "18648  Subject: wecol ' 98 - - western conference on ...      0\n",
            "18649  Subject: euralex ' 98 - revised programme\\n \\n...      0\n",
            "18650  ,Body,Label\\n 0,\"Subject: great part-time or s...      0\n",
            "\n",
            "[18651 rows x 2 columns]\n"
          ]
        }
      ]
    },
    {
      "cell_type": "code",
      "source": [
        "merged_df.head()"
      ],
      "metadata": {
        "colab": {
          "base_uri": "https://localhost:8080/",
          "height": 206
        },
        "id": "G0rpNgfrLXil",
        "outputId": "f8546687-f090-4bc1-9550-418afde4b102"
      },
      "execution_count": null,
      "outputs": [
        {
          "output_type": "execute_result",
          "data": {
            "text/plain": [
              "                                                Body  Label\n",
              "0  \\nSave up to 70% on Life Insurance.\\nWhy Spend...      1\n",
              "1  1) Fight The Risk of Cancer!\\nhttp://www.adcli...      1\n",
              "2  1) Fight The Risk of Cancer!\\nhttp://www.adcli...      1\n",
              "3  ##############################################...      1\n",
              "4  I thought you might like these:\\n1) Slim Down ...      1"
            ],
            "text/html": [
              "\n",
              "  <div id=\"df-49a7075c-238f-48c0-836f-4ae746651a6d\">\n",
              "    <div class=\"colab-df-container\">\n",
              "      <div>\n",
              "<style scoped>\n",
              "    .dataframe tbody tr th:only-of-type {\n",
              "        vertical-align: middle;\n",
              "    }\n",
              "\n",
              "    .dataframe tbody tr th {\n",
              "        vertical-align: top;\n",
              "    }\n",
              "\n",
              "    .dataframe thead th {\n",
              "        text-align: right;\n",
              "    }\n",
              "</style>\n",
              "<table border=\"1\" class=\"dataframe\">\n",
              "  <thead>\n",
              "    <tr style=\"text-align: right;\">\n",
              "      <th></th>\n",
              "      <th>Body</th>\n",
              "      <th>Label</th>\n",
              "    </tr>\n",
              "  </thead>\n",
              "  <tbody>\n",
              "    <tr>\n",
              "      <th>0</th>\n",
              "      <td>\\nSave up to 70% on Life Insurance.\\nWhy Spend...</td>\n",
              "      <td>1</td>\n",
              "    </tr>\n",
              "    <tr>\n",
              "      <th>1</th>\n",
              "      <td>1) Fight The Risk of Cancer!\\nhttp://www.adcli...</td>\n",
              "      <td>1</td>\n",
              "    </tr>\n",
              "    <tr>\n",
              "      <th>2</th>\n",
              "      <td>1) Fight The Risk of Cancer!\\nhttp://www.adcli...</td>\n",
              "      <td>1</td>\n",
              "    </tr>\n",
              "    <tr>\n",
              "      <th>3</th>\n",
              "      <td>##############################################...</td>\n",
              "      <td>1</td>\n",
              "    </tr>\n",
              "    <tr>\n",
              "      <th>4</th>\n",
              "      <td>I thought you might like these:\\n1) Slim Down ...</td>\n",
              "      <td>1</td>\n",
              "    </tr>\n",
              "  </tbody>\n",
              "</table>\n",
              "</div>\n",
              "      <button class=\"colab-df-convert\" onclick=\"convertToInteractive('df-49a7075c-238f-48c0-836f-4ae746651a6d')\"\n",
              "              title=\"Convert this dataframe to an interactive table.\"\n",
              "              style=\"display:none;\">\n",
              "        \n",
              "  <svg xmlns=\"http://www.w3.org/2000/svg\" height=\"24px\"viewBox=\"0 0 24 24\"\n",
              "       width=\"24px\">\n",
              "    <path d=\"M0 0h24v24H0V0z\" fill=\"none\"/>\n",
              "    <path d=\"M18.56 5.44l.94 2.06.94-2.06 2.06-.94-2.06-.94-.94-2.06-.94 2.06-2.06.94zm-11 1L8.5 8.5l.94-2.06 2.06-.94-2.06-.94L8.5 2.5l-.94 2.06-2.06.94zm10 10l.94 2.06.94-2.06 2.06-.94-2.06-.94-.94-2.06-.94 2.06-2.06.94z\"/><path d=\"M17.41 7.96l-1.37-1.37c-.4-.4-.92-.59-1.43-.59-.52 0-1.04.2-1.43.59L10.3 9.45l-7.72 7.72c-.78.78-.78 2.05 0 2.83L4 21.41c.39.39.9.59 1.41.59.51 0 1.02-.2 1.41-.59l7.78-7.78 2.81-2.81c.8-.78.8-2.07 0-2.86zM5.41 20L4 18.59l7.72-7.72 1.47 1.35L5.41 20z\"/>\n",
              "  </svg>\n",
              "      </button>\n",
              "      \n",
              "  <style>\n",
              "    .colab-df-container {\n",
              "      display:flex;\n",
              "      flex-wrap:wrap;\n",
              "      gap: 12px;\n",
              "    }\n",
              "\n",
              "    .colab-df-convert {\n",
              "      background-color: #E8F0FE;\n",
              "      border: none;\n",
              "      border-radius: 50%;\n",
              "      cursor: pointer;\n",
              "      display: none;\n",
              "      fill: #1967D2;\n",
              "      height: 32px;\n",
              "      padding: 0 0 0 0;\n",
              "      width: 32px;\n",
              "    }\n",
              "\n",
              "    .colab-df-convert:hover {\n",
              "      background-color: #E2EBFA;\n",
              "      box-shadow: 0px 1px 2px rgba(60, 64, 67, 0.3), 0px 1px 3px 1px rgba(60, 64, 67, 0.15);\n",
              "      fill: #174EA6;\n",
              "    }\n",
              "\n",
              "    [theme=dark] .colab-df-convert {\n",
              "      background-color: #3B4455;\n",
              "      fill: #D2E3FC;\n",
              "    }\n",
              "\n",
              "    [theme=dark] .colab-df-convert:hover {\n",
              "      background-color: #434B5C;\n",
              "      box-shadow: 0px 1px 3px 1px rgba(0, 0, 0, 0.15);\n",
              "      filter: drop-shadow(0px 1px 2px rgba(0, 0, 0, 0.3));\n",
              "      fill: #FFFFFF;\n",
              "    }\n",
              "  </style>\n",
              "\n",
              "      <script>\n",
              "        const buttonEl =\n",
              "          document.querySelector('#df-49a7075c-238f-48c0-836f-4ae746651a6d button.colab-df-convert');\n",
              "        buttonEl.style.display =\n",
              "          google.colab.kernel.accessAllowed ? 'block' : 'none';\n",
              "\n",
              "        async function convertToInteractive(key) {\n",
              "          const element = document.querySelector('#df-49a7075c-238f-48c0-836f-4ae746651a6d');\n",
              "          const dataTable =\n",
              "            await google.colab.kernel.invokeFunction('convertToInteractive',\n",
              "                                                     [key], {});\n",
              "          if (!dataTable) return;\n",
              "\n",
              "          const docLinkHtml = 'Like what you see? Visit the ' +\n",
              "            '<a target=\"_blank\" href=https://colab.research.google.com/notebooks/data_table.ipynb>data table notebook</a>'\n",
              "            + ' to learn more about interactive tables.';\n",
              "          element.innerHTML = '';\n",
              "          dataTable['output_type'] = 'display_data';\n",
              "          await google.colab.output.renderOutput(dataTable, element);\n",
              "          const docLink = document.createElement('div');\n",
              "          docLink.innerHTML = docLinkHtml;\n",
              "          element.appendChild(docLink);\n",
              "        }\n",
              "      </script>\n",
              "    </div>\n",
              "  </div>\n",
              "  "
            ]
          },
          "metadata": {},
          "execution_count": 21
        }
      ]
    },
    {
      "cell_type": "code",
      "source": [
        "merged_df.shape"
      ],
      "metadata": {
        "colab": {
          "base_uri": "https://localhost:8080/"
        },
        "id": "jXGzjR85LiGV",
        "outputId": "7b75925c-2916-4343-8191-615a64edefad"
      },
      "execution_count": null,
      "outputs": [
        {
          "output_type": "execute_result",
          "data": {
            "text/plain": [
              "(18651, 2)"
            ]
          },
          "metadata": {},
          "execution_count": 22
        }
      ]
    },
    {
      "cell_type": "code",
      "source": [
        "merged_df.isnull().sum()"
      ],
      "metadata": {
        "colab": {
          "base_uri": "https://localhost:8080/"
        },
        "id": "tywDHEm4Lmcr",
        "outputId": "5ccc5636-74d4-4fae-dc4f-5e75c1087733"
      },
      "execution_count": null,
      "outputs": [
        {
          "output_type": "execute_result",
          "data": {
            "text/plain": [
              "Body     1\n",
              "Label    0\n",
              "dtype: int64"
            ]
          },
          "metadata": {},
          "execution_count": 23
        }
      ]
    },
    {
      "cell_type": "code",
      "source": [
        "merged_df.dropna()"
      ],
      "metadata": {
        "colab": {
          "base_uri": "https://localhost:8080/",
          "height": 424
        },
        "id": "fgFZYWKbL1sB",
        "outputId": "2e0aae49-46e6-418f-e933-ed06c18d1630"
      },
      "execution_count": null,
      "outputs": [
        {
          "output_type": "execute_result",
          "data": {
            "text/plain": [
              "                                                    Body  Label\n",
              "0      \\nSave up to 70% on Life Insurance.\\nWhy Spend...      1\n",
              "1      1) Fight The Risk of Cancer!\\nhttp://www.adcli...      1\n",
              "2      1) Fight The Risk of Cancer!\\nhttp://www.adcli...      1\n",
              "3      ##############################################...      1\n",
              "4      I thought you might like these:\\n1) Slim Down ...      1\n",
              "...                                                  ...    ...\n",
              "18646  Subject: computationally - intensive methods i...      0\n",
              "18647  Subject: books : a survey of american linguist...      0\n",
              "18648  Subject: wecol ' 98 - - western conference on ...      0\n",
              "18649  Subject: euralex ' 98 - revised programme\\n \\n...      0\n",
              "18650  ,Body,Label\\n 0,\"Subject: great part-time or s...      0\n",
              "\n",
              "[18650 rows x 2 columns]"
            ],
            "text/html": [
              "\n",
              "  <div id=\"df-f601d631-91d8-4a47-a127-a264cea0ad6a\">\n",
              "    <div class=\"colab-df-container\">\n",
              "      <div>\n",
              "<style scoped>\n",
              "    .dataframe tbody tr th:only-of-type {\n",
              "        vertical-align: middle;\n",
              "    }\n",
              "\n",
              "    .dataframe tbody tr th {\n",
              "        vertical-align: top;\n",
              "    }\n",
              "\n",
              "    .dataframe thead th {\n",
              "        text-align: right;\n",
              "    }\n",
              "</style>\n",
              "<table border=\"1\" class=\"dataframe\">\n",
              "  <thead>\n",
              "    <tr style=\"text-align: right;\">\n",
              "      <th></th>\n",
              "      <th>Body</th>\n",
              "      <th>Label</th>\n",
              "    </tr>\n",
              "  </thead>\n",
              "  <tbody>\n",
              "    <tr>\n",
              "      <th>0</th>\n",
              "      <td>\\nSave up to 70% on Life Insurance.\\nWhy Spend...</td>\n",
              "      <td>1</td>\n",
              "    </tr>\n",
              "    <tr>\n",
              "      <th>1</th>\n",
              "      <td>1) Fight The Risk of Cancer!\\nhttp://www.adcli...</td>\n",
              "      <td>1</td>\n",
              "    </tr>\n",
              "    <tr>\n",
              "      <th>2</th>\n",
              "      <td>1) Fight The Risk of Cancer!\\nhttp://www.adcli...</td>\n",
              "      <td>1</td>\n",
              "    </tr>\n",
              "    <tr>\n",
              "      <th>3</th>\n",
              "      <td>##############################################...</td>\n",
              "      <td>1</td>\n",
              "    </tr>\n",
              "    <tr>\n",
              "      <th>4</th>\n",
              "      <td>I thought you might like these:\\n1) Slim Down ...</td>\n",
              "      <td>1</td>\n",
              "    </tr>\n",
              "    <tr>\n",
              "      <th>...</th>\n",
              "      <td>...</td>\n",
              "      <td>...</td>\n",
              "    </tr>\n",
              "    <tr>\n",
              "      <th>18646</th>\n",
              "      <td>Subject: computationally - intensive methods i...</td>\n",
              "      <td>0</td>\n",
              "    </tr>\n",
              "    <tr>\n",
              "      <th>18647</th>\n",
              "      <td>Subject: books : a survey of american linguist...</td>\n",
              "      <td>0</td>\n",
              "    </tr>\n",
              "    <tr>\n",
              "      <th>18648</th>\n",
              "      <td>Subject: wecol ' 98 - - western conference on ...</td>\n",
              "      <td>0</td>\n",
              "    </tr>\n",
              "    <tr>\n",
              "      <th>18649</th>\n",
              "      <td>Subject: euralex ' 98 - revised programme\\n \\n...</td>\n",
              "      <td>0</td>\n",
              "    </tr>\n",
              "    <tr>\n",
              "      <th>18650</th>\n",
              "      <td>,Body,Label\\n 0,\"Subject: great part-time or s...</td>\n",
              "      <td>0</td>\n",
              "    </tr>\n",
              "  </tbody>\n",
              "</table>\n",
              "<p>18650 rows × 2 columns</p>\n",
              "</div>\n",
              "      <button class=\"colab-df-convert\" onclick=\"convertToInteractive('df-f601d631-91d8-4a47-a127-a264cea0ad6a')\"\n",
              "              title=\"Convert this dataframe to an interactive table.\"\n",
              "              style=\"display:none;\">\n",
              "        \n",
              "  <svg xmlns=\"http://www.w3.org/2000/svg\" height=\"24px\"viewBox=\"0 0 24 24\"\n",
              "       width=\"24px\">\n",
              "    <path d=\"M0 0h24v24H0V0z\" fill=\"none\"/>\n",
              "    <path d=\"M18.56 5.44l.94 2.06.94-2.06 2.06-.94-2.06-.94-.94-2.06-.94 2.06-2.06.94zm-11 1L8.5 8.5l.94-2.06 2.06-.94-2.06-.94L8.5 2.5l-.94 2.06-2.06.94zm10 10l.94 2.06.94-2.06 2.06-.94-2.06-.94-.94-2.06-.94 2.06-2.06.94z\"/><path d=\"M17.41 7.96l-1.37-1.37c-.4-.4-.92-.59-1.43-.59-.52 0-1.04.2-1.43.59L10.3 9.45l-7.72 7.72c-.78.78-.78 2.05 0 2.83L4 21.41c.39.39.9.59 1.41.59.51 0 1.02-.2 1.41-.59l7.78-7.78 2.81-2.81c.8-.78.8-2.07 0-2.86zM5.41 20L4 18.59l7.72-7.72 1.47 1.35L5.41 20z\"/>\n",
              "  </svg>\n",
              "      </button>\n",
              "      \n",
              "  <style>\n",
              "    .colab-df-container {\n",
              "      display:flex;\n",
              "      flex-wrap:wrap;\n",
              "      gap: 12px;\n",
              "    }\n",
              "\n",
              "    .colab-df-convert {\n",
              "      background-color: #E8F0FE;\n",
              "      border: none;\n",
              "      border-radius: 50%;\n",
              "      cursor: pointer;\n",
              "      display: none;\n",
              "      fill: #1967D2;\n",
              "      height: 32px;\n",
              "      padding: 0 0 0 0;\n",
              "      width: 32px;\n",
              "    }\n",
              "\n",
              "    .colab-df-convert:hover {\n",
              "      background-color: #E2EBFA;\n",
              "      box-shadow: 0px 1px 2px rgba(60, 64, 67, 0.3), 0px 1px 3px 1px rgba(60, 64, 67, 0.15);\n",
              "      fill: #174EA6;\n",
              "    }\n",
              "\n",
              "    [theme=dark] .colab-df-convert {\n",
              "      background-color: #3B4455;\n",
              "      fill: #D2E3FC;\n",
              "    }\n",
              "\n",
              "    [theme=dark] .colab-df-convert:hover {\n",
              "      background-color: #434B5C;\n",
              "      box-shadow: 0px 1px 3px 1px rgba(0, 0, 0, 0.15);\n",
              "      filter: drop-shadow(0px 1px 2px rgba(0, 0, 0, 0.3));\n",
              "      fill: #FFFFFF;\n",
              "    }\n",
              "  </style>\n",
              "\n",
              "      <script>\n",
              "        const buttonEl =\n",
              "          document.querySelector('#df-f601d631-91d8-4a47-a127-a264cea0ad6a button.colab-df-convert');\n",
              "        buttonEl.style.display =\n",
              "          google.colab.kernel.accessAllowed ? 'block' : 'none';\n",
              "\n",
              "        async function convertToInteractive(key) {\n",
              "          const element = document.querySelector('#df-f601d631-91d8-4a47-a127-a264cea0ad6a');\n",
              "          const dataTable =\n",
              "            await google.colab.kernel.invokeFunction('convertToInteractive',\n",
              "                                                     [key], {});\n",
              "          if (!dataTable) return;\n",
              "\n",
              "          const docLinkHtml = 'Like what you see? Visit the ' +\n",
              "            '<a target=\"_blank\" href=https://colab.research.google.com/notebooks/data_table.ipynb>data table notebook</a>'\n",
              "            + ' to learn more about interactive tables.';\n",
              "          element.innerHTML = '';\n",
              "          dataTable['output_type'] = 'display_data';\n",
              "          await google.colab.output.renderOutput(dataTable, element);\n",
              "          const docLink = document.createElement('div');\n",
              "          docLink.innerHTML = docLinkHtml;\n",
              "          element.appendChild(docLink);\n",
              "        }\n",
              "      </script>\n",
              "    </div>\n",
              "  </div>\n",
              "  "
            ]
          },
          "metadata": {},
          "execution_count": 24
        }
      ]
    },
    {
      "cell_type": "code",
      "source": [
        "# Remove duplicate values based on 'Body' and 'Label' columns\n",
        "merged_df = merged_df.drop_duplicates(subset=['Body', 'Label'])\n",
        "\n",
        "# Display the DataFrame after removing duplicates\n",
        "print(merged_df)"
      ],
      "metadata": {
        "colab": {
          "base_uri": "https://localhost:8080/"
        },
        "id": "BAvIJqv2MsF-",
        "outputId": "66e1288a-a195-4a35-c840-7527862c9132"
      },
      "execution_count": null,
      "outputs": [
        {
          "output_type": "stream",
          "name": "stdout",
          "text": [
            "                                                    Body  Label\n",
            "0      \\nSave up to 70% on Life Insurance.\\nWhy Spend...      1\n",
            "1      1) Fight The Risk of Cancer!\\nhttp://www.adcli...      1\n",
            "2      1) Fight The Risk of Cancer!\\nhttp://www.adcli...      1\n",
            "3      ##############################################...      1\n",
            "4      I thought you might like these:\\n1) Slim Down ...      1\n",
            "...                                                  ...    ...\n",
            "18646  Subject: computationally - intensive methods i...      0\n",
            "18647  Subject: books : a survey of american linguist...      0\n",
            "18648  Subject: wecol ' 98 - - western conference on ...      0\n",
            "18649  Subject: euralex ' 98 - revised programme\\n \\n...      0\n",
            "18650  ,Body,Label\\n 0,\"Subject: great part-time or s...      0\n",
            "\n",
            "[17572 rows x 2 columns]\n"
          ]
        }
      ]
    },
    {
      "cell_type": "code",
      "source": [],
      "metadata": {
        "id": "am7J7wDkpdld"
      },
      "execution_count": null,
      "outputs": []
    },
    {
      "cell_type": "code",
      "source": [
        "#Lowercase\n",
        "\n",
        "# Convert the 'Body' column to lowercase\n",
        "merged_df['Body'] = merged_df['Body'].str.lower()\n",
        "\n",
        "# Display the DataFrame with lowercase 'Body' column\n",
        "print(merged_df)"
      ],
      "metadata": {
        "colab": {
          "base_uri": "https://localhost:8080/"
        },
        "id": "tWG0RxlEN6Xq",
        "outputId": "0ea96bca-6b1a-4c0b-a6f4-6fe7380c83f1"
      },
      "execution_count": null,
      "outputs": [
        {
          "output_type": "stream",
          "name": "stdout",
          "text": [
            "                                                    Body  Label\n",
            "0      \\nsave up to 70% on life insurance.\\nwhy spend...      1\n",
            "1      1) fight the risk of cancer!\\nhttp://www.adcli...      1\n",
            "2      1) fight the risk of cancer!\\nhttp://www.adcli...      1\n",
            "3      ##############################################...      1\n",
            "4      i thought you might like these:\\n1) slim down ...      1\n",
            "...                                                  ...    ...\n",
            "18646  subject: computationally - intensive methods i...      0\n",
            "18647  subject: books : a survey of american linguist...      0\n",
            "18648  subject: wecol ' 98 - - western conference on ...      0\n",
            "18649  subject: euralex ' 98 - revised programme\\n \\n...      0\n",
            "18650  ,body,label\\n 0,\"subject: great part-time or s...      0\n",
            "\n",
            "[17572 rows x 2 columns]\n"
          ]
        }
      ]
    },
    {
      "cell_type": "code",
      "source": [
        "#Removing the punctuation form the body column\n",
        "\n",
        "import re\n",
        "\n",
        "# Convert 'Body' column to string\n",
        "merged_df['Body'] = merged_df['Body'].astype(str)\n",
        "\n",
        "# Remove punctuation from the 'Body' column\n",
        "merged_df['Body'] = merged_df['Body'].apply(lambda x: re.sub(r'[^\\w\\s]', '', x))\n",
        "\n",
        "# Display the DataFrame with removed punctuation\n",
        "print(merged_df)"
      ],
      "metadata": {
        "colab": {
          "base_uri": "https://localhost:8080/"
        },
        "id": "DmKL85yMOiJk",
        "outputId": "4eb3c084-3e00-4f42-fa58-601aca00e1fe"
      },
      "execution_count": null,
      "outputs": [
        {
          "output_type": "stream",
          "name": "stdout",
          "text": [
            "                                                    Body  Label\n",
            "0      \\nsave up to 70 on life insurance\\nwhy spend m...      1\n",
            "1      1 fight the risk of cancer\\nhttpwwwadclickwspc...      1\n",
            "2      1 fight the risk of cancer\\nhttpwwwadclickwspc...      1\n",
            "3      \\n                                            ...      1\n",
            "4      i thought you might like these\\n1 slim down  g...      1\n",
            "...                                                  ...    ...\n",
            "18646  subject computationally  intensive methods in ...      0\n",
            "18647  subject books  a survey of american linguistic...      0\n",
            "18648  subject wecol  98   western conference on ling...      0\n",
            "18649  subject euralex  98  revised programme\\n \\n eu...      0\n",
            "18650  bodylabel\\n 0subject great parttime or summer ...      0\n",
            "\n",
            "[17572 rows x 2 columns]\n"
          ]
        }
      ]
    },
    {
      "cell_type": "code",
      "source": [
        "#Downloading stopwords\n",
        "\n",
        "import nltk\n",
        "nltk.download('stopwords')"
      ],
      "metadata": {
        "colab": {
          "base_uri": "https://localhost:8080/"
        },
        "id": "FtaJ6jXKW3rb",
        "outputId": "8d2ccd25-1c12-463e-e0a5-b5e5018ad403"
      },
      "execution_count": null,
      "outputs": [
        {
          "output_type": "stream",
          "name": "stderr",
          "text": [
            "[nltk_data] Downloading package stopwords to /root/nltk_data...\n",
            "[nltk_data]   Unzipping corpora/stopwords.zip.\n"
          ]
        },
        {
          "output_type": "execute_result",
          "data": {
            "text/plain": [
              "True"
            ]
          },
          "metadata": {},
          "execution_count": 28
        }
      ]
    },
    {
      "cell_type": "code",
      "source": [
        "#Removing Stopwords\n",
        "\n",
        "from nltk.corpus import stopwords\n",
        "\n",
        "# Remove stopwords from the 'Body' column\n",
        "stop_words = set(stopwords.words('english'))\n",
        "merged_df['Body'] = merged_df['Body'].apply(lambda x: ' '.join([word for word in x.split() if word not in stop_words]))\n",
        "\n",
        "# Display the DataFrame with removed stopwords\n",
        "print(merged_df)"
      ],
      "metadata": {
        "colab": {
          "base_uri": "https://localhost:8080/"
        },
        "id": "87p1Gg3fQA3b",
        "outputId": "fde6829c-8dd3-4b96-cc1e-f766cc45d6ba"
      },
      "execution_count": null,
      "outputs": [
        {
          "output_type": "stream",
          "name": "stdout",
          "text": [
            "                                                    Body  Label\n",
            "0      save 70 life insurance spend tolife quote savi...      1\n",
            "1      1 fight risk cancer httpwwwadclickwspcfmo315sp...      1\n",
            "2      1 fight risk cancer httpwwwadclickwspcfmo315sp...      1\n",
            "3      adult club offers free membership instant acce...      1\n",
            "4      thought might like 1 slim guaranteed lose 1012...      1\n",
            "...                                                  ...    ...\n",
            "18646  subject computationally intensive methods quan...      0\n",
            "18647  subject books survey american linguistics publ...      0\n",
            "18648  subject wecol 98 western conference linguistic...      0\n",
            "18649  subject euralex 98 revised programme euralex 9...      0\n",
            "18650  bodylabel 0subject great parttime summer job d...      0\n",
            "\n",
            "[17572 rows x 2 columns]\n"
          ]
        }
      ]
    },
    {
      "cell_type": "code",
      "source": [
        "#Downloading punkt\n",
        "\n",
        "import nltk\n",
        "nltk.download('punkt')"
      ],
      "metadata": {
        "colab": {
          "base_uri": "https://localhost:8080/"
        },
        "id": "R-9p45lRW9Le",
        "outputId": "7c280051-97ad-421b-9fc3-dee9c88a9dfc"
      },
      "execution_count": null,
      "outputs": [
        {
          "output_type": "stream",
          "name": "stderr",
          "text": [
            "[nltk_data] Downloading package punkt to /root/nltk_data...\n",
            "[nltk_data]   Unzipping tokenizers/punkt.zip.\n"
          ]
        },
        {
          "output_type": "execute_result",
          "data": {
            "text/plain": [
              "True"
            ]
          },
          "metadata": {},
          "execution_count": 30
        }
      ]
    },
    {
      "cell_type": "code",
      "source": [
        "#Tokenization\n",
        "\n",
        "import pandas as pd\n",
        "import nltk\n",
        "\n",
        "# Tokenize the 'Body' column\n",
        "merged_df['Body'] = merged_df['Body'].apply(lambda x: nltk.word_tokenize(x))\n",
        "\n",
        "# Display the DataFrame with tokenized 'Body' column\n",
        "print(merged_df)"
      ],
      "metadata": {
        "colab": {
          "base_uri": "https://localhost:8080/"
        },
        "id": "3hahkRBQQaF0",
        "outputId": "ee5fdbfc-2023-4fc9-ab0e-7e24e60ab23f"
      },
      "execution_count": null,
      "outputs": [
        {
          "output_type": "stream",
          "name": "stdout",
          "text": [
            "                                                    Body  Label\n",
            "0      [save, 70, life, insurance, spend, tolife, quo...      1\n",
            "1      [1, fight, risk, cancer, httpwwwadclickwspcfmo...      1\n",
            "2      [1, fight, risk, cancer, httpwwwadclickwspcfmo...      1\n",
            "3      [adult, club, offers, free, membership, instan...      1\n",
            "4      [thought, might, like, 1, slim, guaranteed, lo...      1\n",
            "...                                                  ...    ...\n",
            "18646  [subject, computationally, intensive, methods,...      0\n",
            "18647  [subject, books, survey, american, linguistics...      0\n",
            "18648  [subject, wecol, 98, western, conference, ling...      0\n",
            "18649  [subject, euralex, 98, revised, programme, eur...      0\n",
            "18650  [bodylabel, 0subject, great, parttime, summer,...      0\n",
            "\n",
            "[17572 rows x 2 columns]\n"
          ]
        }
      ]
    },
    {
      "cell_type": "code",
      "source": [
        "#Stemming\n",
        "\n",
        "import nltk\n",
        "from nltk.stem import SnowballStemmer\n",
        "\n",
        "stemmer = SnowballStemmer('english')\n",
        "\n",
        "def stem_tokens(tokens):\n",
        "    stemmed_tokens = [stemmer.stem(token) for token in tokens]  # Perform stemming on each token\n",
        "    return stemmed_tokens\n",
        "\n",
        "# Apply the stemming function to the 'Body' column\n",
        "merged_df['Body'] = merged_df['Body'].apply(stem_tokens)\n",
        "\n",
        "print(merged_df)"
      ],
      "metadata": {
        "colab": {
          "base_uri": "https://localhost:8080/"
        },
        "id": "fbwfAhc8RO22",
        "outputId": "0d70915a-dc3b-4b05-fc45-6a422cd93483"
      },
      "execution_count": null,
      "outputs": [
        {
          "output_type": "stream",
          "name": "stdout",
          "text": [
            "                                                    Body  Label\n",
            "0      [save, 70, life, insur, spend, tolif, quot, sa...      1\n",
            "1      [1, fight, risk, cancer, httpwwwadclickwspcfmo...      1\n",
            "2      [1, fight, risk, cancer, httpwwwadclickwspcfmo...      1\n",
            "3      [adult, club, offer, free, membership, instant...      1\n",
            "4      [thought, might, like, 1, slim, guarante, lose...      1\n",
            "...                                                  ...    ...\n",
            "18646  [subject, comput, intens, method, quantit, lin...      0\n",
            "18647  [subject, book, survey, american, linguist, pu...      0\n",
            "18648  [subject, wecol, 98, western, confer, linguist...      0\n",
            "18649  [subject, euralex, 98, revis, programm, eurale...      0\n",
            "18650  [bodylabel, 0subject, great, parttim, summer, ...      0\n",
            "\n",
            "[17572 rows x 2 columns]\n"
          ]
        }
      ]
    },
    {
      "cell_type": "code",
      "source": [],
      "metadata": {
        "id": "A1R9Lfl_X7K7"
      },
      "execution_count": null,
      "outputs": []
    },
    {
      "cell_type": "code",
      "source": [
        "x = merged_df['Body']\n",
        "y = merged_df['Label']"
      ],
      "metadata": {
        "id": "vG5yFUbCX7Q4"
      },
      "execution_count": null,
      "outputs": []
    },
    {
      "cell_type": "code",
      "source": [
        "from keras.utils import to_categorical\n",
        "y = to_categorical(y)\n"
      ],
      "metadata": {
        "id": "qlmYM9B8X-dm"
      },
      "execution_count": null,
      "outputs": []
    },
    {
      "cell_type": "code",
      "source": [
        "from sklearn.model_selection import train_test_split\n",
        "x_train, x_test, y_train, y_test = train_test_split(x, y, test_size=0.2, random_state=42)"
      ],
      "metadata": {
        "id": "dCcWmghOYA53"
      },
      "execution_count": null,
      "outputs": []
    },
    {
      "cell_type": "code",
      "source": [
        "from keras.preprocessing.text import Tokenizer\n",
        "tokenizer = Tokenizer()\n",
        "tokenizer.fit_on_texts(x_train)\n",
        "x_train = tokenizer.texts_to_sequences(x_train)\n",
        "x_test = tokenizer.texts_to_sequences(x_test)"
      ],
      "metadata": {
        "id": "hygGsRjtYH02"
      },
      "execution_count": null,
      "outputs": []
    },
    {
      "cell_type": "code",
      "source": [
        "from tensorflow.keras.preprocessing.sequence import pad_sequences\n",
        "max_len = 100  # define the maximum length for padding\n",
        "x_train = pad_sequences(x_train, maxlen=max_len)\n",
        "x_test = pad_sequences(x_test, maxlen=max_len)"
      ],
      "metadata": {
        "id": "3WzFf_Q0YNHl"
      },
      "execution_count": null,
      "outputs": []
    },
    {
      "cell_type": "code",
      "source": [
        "from keras.models import Sequential\n",
        "from keras.layers import LSTM, Dense\n",
        "\n",
        "# Reshape the input data\n",
        "x_train = np.reshape(x_train, (x_train.shape[0], x_train.shape[1], 1))\n",
        "x_test = np.reshape(x_test, (x_test.shape[0], x_test.shape[1], 1))\n",
        "\n",
        "# Build the LSTM model\n",
        "rnnlstm = Sequential()\n",
        "rnnlstm.add(LSTM(100, input_shape=(x_train.shape[1], 1)))\n",
        "rnnlstm.add(Dense(2, activation='softmax'))\n",
        "\n",
        "# Compile and train the model\n",
        "rnnlstm.compile(loss='categorical_crossentropy', optimizer='adam', metrics=['accuracy'])\n",
        "rnnlstm.fit(x_train, y_train, epochs=150, batch_size=32)\n"
      ],
      "metadata": {
        "id": "Eog-909eYa6q",
        "colab": {
          "base_uri": "https://localhost:8080/"
        },
        "outputId": "ef1f4c8a-62d0-4d7b-decf-e8670d3faf7f"
      },
      "execution_count": null,
      "outputs": [
        {
          "output_type": "stream",
          "name": "stdout",
          "text": [
            "Epoch 1/150\n",
            "440/440 [==============================] - 10s 7ms/step - loss: 0.6123 - accuracy: 0.6630\n",
            "Epoch 2/150\n",
            "440/440 [==============================] - 3s 6ms/step - loss: 0.5748 - accuracy: 0.6960\n",
            "Epoch 3/150\n",
            "440/440 [==============================] - 3s 6ms/step - loss: 0.5399 - accuracy: 0.7271\n",
            "Epoch 4/150\n",
            "440/440 [==============================] - 4s 9ms/step - loss: 0.5223 - accuracy: 0.7364\n",
            "Epoch 5/150\n",
            "440/440 [==============================] - 3s 6ms/step - loss: 0.5041 - accuracy: 0.7465\n",
            "Epoch 6/150\n",
            "440/440 [==============================] - 3s 6ms/step - loss: 0.4917 - accuracy: 0.7615\n",
            "Epoch 7/150\n",
            "440/440 [==============================] - 3s 6ms/step - loss: 0.4820 - accuracy: 0.7634\n",
            "Epoch 8/150\n",
            "440/440 [==============================] - 3s 7ms/step - loss: 0.4695 - accuracy: 0.7716\n",
            "Epoch 9/150\n",
            "440/440 [==============================] - 3s 8ms/step - loss: 0.4556 - accuracy: 0.7818\n",
            "Epoch 10/150\n",
            "440/440 [==============================] - 3s 6ms/step - loss: 0.4489 - accuracy: 0.7860\n",
            "Epoch 11/150\n",
            "440/440 [==============================] - 3s 6ms/step - loss: 0.4375 - accuracy: 0.7953\n",
            "Epoch 12/150\n",
            "440/440 [==============================] - 3s 6ms/step - loss: 0.4397 - accuracy: 0.7911\n",
            "Epoch 13/150\n",
            "440/440 [==============================] - 4s 8ms/step - loss: 0.4282 - accuracy: 0.7955\n",
            "Epoch 14/150\n",
            "440/440 [==============================] - 3s 7ms/step - loss: 0.4201 - accuracy: 0.8014\n",
            "Epoch 15/150\n",
            "440/440 [==============================] - 3s 6ms/step - loss: 0.4143 - accuracy: 0.8034\n",
            "Epoch 16/150\n",
            "440/440 [==============================] - 3s 6ms/step - loss: 0.4058 - accuracy: 0.8135\n",
            "Epoch 17/150\n",
            "440/440 [==============================] - 3s 7ms/step - loss: 0.4056 - accuracy: 0.8099\n",
            "Epoch 18/150\n",
            "440/440 [==============================] - 4s 9ms/step - loss: 0.3966 - accuracy: 0.8158\n",
            "Epoch 19/150\n",
            "440/440 [==============================] - 3s 6ms/step - loss: 0.3859 - accuracy: 0.8228\n",
            "Epoch 20/150\n",
            "440/440 [==============================] - 3s 6ms/step - loss: 0.3817 - accuracy: 0.8250\n",
            "Epoch 21/150\n",
            "440/440 [==============================] - 3s 6ms/step - loss: 0.3752 - accuracy: 0.8271\n",
            "Epoch 22/150\n",
            "440/440 [==============================] - 3s 7ms/step - loss: 0.3727 - accuracy: 0.8313\n",
            "Epoch 23/150\n",
            "440/440 [==============================] - 3s 7ms/step - loss: 0.3650 - accuracy: 0.8349\n",
            "Epoch 24/150\n",
            "440/440 [==============================] - 3s 6ms/step - loss: 0.3612 - accuracy: 0.8366\n",
            "Epoch 25/150\n",
            "440/440 [==============================] - 3s 6ms/step - loss: 0.3569 - accuracy: 0.8357\n",
            "Epoch 26/150\n",
            "440/440 [==============================] - 3s 6ms/step - loss: 0.3505 - accuracy: 0.8404\n",
            "Epoch 27/150\n",
            "440/440 [==============================] - 4s 9ms/step - loss: 0.3463 - accuracy: 0.8434\n",
            "Epoch 28/150\n",
            "440/440 [==============================] - 3s 7ms/step - loss: 0.3415 - accuracy: 0.8476\n",
            "Epoch 29/150\n",
            "440/440 [==============================] - 3s 6ms/step - loss: 0.3367 - accuracy: 0.8511\n",
            "Epoch 30/150\n",
            "440/440 [==============================] - 3s 6ms/step - loss: 0.3299 - accuracy: 0.8523\n",
            "Epoch 31/150\n",
            "440/440 [==============================] - 3s 7ms/step - loss: 0.3285 - accuracy: 0.8519\n",
            "Epoch 32/150\n",
            "440/440 [==============================] - 4s 8ms/step - loss: 0.3207 - accuracy: 0.8592\n",
            "Epoch 33/150\n",
            "440/440 [==============================] - 3s 6ms/step - loss: 0.3191 - accuracy: 0.8552\n",
            "Epoch 34/150\n",
            "440/440 [==============================] - 3s 6ms/step - loss: 0.3132 - accuracy: 0.8602\n",
            "Epoch 35/150\n",
            "440/440 [==============================] - 3s 6ms/step - loss: 0.3069 - accuracy: 0.8631\n",
            "Epoch 36/150\n",
            "440/440 [==============================] - 3s 8ms/step - loss: 0.3096 - accuracy: 0.8627\n",
            "Epoch 37/150\n",
            "440/440 [==============================] - 3s 7ms/step - loss: 0.3036 - accuracy: 0.8670\n",
            "Epoch 38/150\n",
            "440/440 [==============================] - 3s 6ms/step - loss: 0.2985 - accuracy: 0.8690\n",
            "Epoch 39/150\n",
            "440/440 [==============================] - 3s 6ms/step - loss: 0.2948 - accuracy: 0.8739\n",
            "Epoch 40/150\n",
            "440/440 [==============================] - 3s 6ms/step - loss: 0.3071 - accuracy: 0.8641\n",
            "Epoch 41/150\n",
            "440/440 [==============================] - 4s 9ms/step - loss: 0.2904 - accuracy: 0.8729\n",
            "Epoch 42/150\n",
            "440/440 [==============================] - 3s 6ms/step - loss: 0.2869 - accuracy: 0.8749\n",
            "Epoch 43/150\n",
            "440/440 [==============================] - 3s 6ms/step - loss: 0.2868 - accuracy: 0.8751\n",
            "Epoch 44/150\n",
            "440/440 [==============================] - 3s 6ms/step - loss: 0.2843 - accuracy: 0.8757\n",
            "Epoch 45/150\n",
            "440/440 [==============================] - 3s 7ms/step - loss: 0.2783 - accuracy: 0.8773\n",
            "Epoch 46/150\n",
            "440/440 [==============================] - 4s 8ms/step - loss: 0.2788 - accuracy: 0.8779\n",
            "Epoch 47/150\n",
            "440/440 [==============================] - 3s 6ms/step - loss: 0.2695 - accuracy: 0.8818\n",
            "Epoch 48/150\n",
            "440/440 [==============================] - 3s 6ms/step - loss: 0.2712 - accuracy: 0.8821\n",
            "Epoch 49/150\n",
            "440/440 [==============================] - 3s 6ms/step - loss: 0.2651 - accuracy: 0.8872\n",
            "Epoch 50/150\n",
            "440/440 [==============================] - 3s 8ms/step - loss: 0.2653 - accuracy: 0.8858\n",
            "Epoch 51/150\n",
            "440/440 [==============================] - 3s 7ms/step - loss: 0.2599 - accuracy: 0.8877\n",
            "Epoch 52/150\n",
            "440/440 [==============================] - 3s 7ms/step - loss: 0.2568 - accuracy: 0.8887\n",
            "Epoch 53/150\n",
            "440/440 [==============================] - 3s 6ms/step - loss: 0.2606 - accuracy: 0.8892\n",
            "Epoch 54/150\n",
            "440/440 [==============================] - 3s 7ms/step - loss: 0.2570 - accuracy: 0.8872\n",
            "Epoch 55/150\n",
            "440/440 [==============================] - 4s 8ms/step - loss: 0.2502 - accuracy: 0.8940\n",
            "Epoch 56/150\n",
            "440/440 [==============================] - 3s 6ms/step - loss: 0.2479 - accuracy: 0.8954\n",
            "Epoch 57/150\n",
            "440/440 [==============================] - 3s 6ms/step - loss: 0.2436 - accuracy: 0.8958\n",
            "Epoch 58/150\n",
            "440/440 [==============================] - 3s 6ms/step - loss: 0.2410 - accuracy: 0.8953\n",
            "Epoch 59/150\n",
            "440/440 [==============================] - 3s 7ms/step - loss: 0.2354 - accuracy: 0.8992\n",
            "Epoch 60/150\n",
            "440/440 [==============================] - 3s 8ms/step - loss: 0.2369 - accuracy: 0.8985\n",
            "Epoch 61/150\n",
            "440/440 [==============================] - 3s 6ms/step - loss: 0.2358 - accuracy: 0.9000\n",
            "Epoch 62/150\n",
            "440/440 [==============================] - 3s 6ms/step - loss: 0.2276 - accuracy: 0.9019\n",
            "Epoch 63/150\n",
            "440/440 [==============================] - 3s 6ms/step - loss: 0.2272 - accuracy: 0.9037\n",
            "Epoch 64/150\n",
            "440/440 [==============================] - 4s 9ms/step - loss: 0.2301 - accuracy: 0.9018\n",
            "Epoch 65/150\n",
            "440/440 [==============================] - 3s 6ms/step - loss: 0.2231 - accuracy: 0.9069\n",
            "Epoch 66/150\n",
            "440/440 [==============================] - 3s 6ms/step - loss: 0.2205 - accuracy: 0.9058\n",
            "Epoch 67/150\n",
            "440/440 [==============================] - 3s 6ms/step - loss: 0.2171 - accuracy: 0.9079\n",
            "Epoch 68/150\n",
            "440/440 [==============================] - 3s 7ms/step - loss: 0.2105 - accuracy: 0.9134\n",
            "Epoch 69/150\n",
            "440/440 [==============================] - 4s 8ms/step - loss: 0.2154 - accuracy: 0.9072\n",
            "Epoch 70/150\n",
            "440/440 [==============================] - 3s 6ms/step - loss: 0.2164 - accuracy: 0.9072\n",
            "Epoch 71/150\n",
            "440/440 [==============================] - 3s 6ms/step - loss: 0.2043 - accuracy: 0.9136\n",
            "Epoch 72/150\n",
            "440/440 [==============================] - 3s 6ms/step - loss: 0.2056 - accuracy: 0.9124\n",
            "Epoch 73/150\n",
            "440/440 [==============================] - 4s 8ms/step - loss: 0.2067 - accuracy: 0.9120\n",
            "Epoch 74/150\n",
            "440/440 [==============================] - 3s 7ms/step - loss: 0.1973 - accuracy: 0.9166\n",
            "Epoch 75/150\n",
            "440/440 [==============================] - 3s 6ms/step - loss: 0.2001 - accuracy: 0.9183\n",
            "Epoch 76/150\n",
            "440/440 [==============================] - 3s 6ms/step - loss: 0.1976 - accuracy: 0.9127\n",
            "Epoch 77/150\n",
            "440/440 [==============================] - 3s 6ms/step - loss: 0.1952 - accuracy: 0.9181\n",
            "Epoch 78/150\n",
            "440/440 [==============================] - 4s 9ms/step - loss: 0.1972 - accuracy: 0.9181\n",
            "Epoch 79/150\n",
            "440/440 [==============================] - 3s 6ms/step - loss: 0.1878 - accuracy: 0.9217\n",
            "Epoch 80/150\n",
            "440/440 [==============================] - 3s 6ms/step - loss: 0.1896 - accuracy: 0.9196\n",
            "Epoch 81/150\n",
            "440/440 [==============================] - 3s 6ms/step - loss: 0.1909 - accuracy: 0.9196\n",
            "Epoch 82/150\n",
            "440/440 [==============================] - 3s 7ms/step - loss: 0.1880 - accuracy: 0.9222\n",
            "Epoch 83/150\n",
            "440/440 [==============================] - 4s 8ms/step - loss: 0.1846 - accuracy: 0.9240\n",
            "Epoch 84/150\n",
            "440/440 [==============================] - 3s 6ms/step - loss: 0.1858 - accuracy: 0.9225\n",
            "Epoch 85/150\n",
            "440/440 [==============================] - 3s 6ms/step - loss: 0.1809 - accuracy: 0.9251\n",
            "Epoch 86/150\n",
            "440/440 [==============================] - 3s 6ms/step - loss: 0.1848 - accuracy: 0.9204\n",
            "Epoch 87/150\n",
            "440/440 [==============================] - 4s 8ms/step - loss: 0.1942 - accuracy: 0.9155\n",
            "Epoch 88/150\n",
            "440/440 [==============================] - 3s 7ms/step - loss: 0.2026 - accuracy: 0.9143\n",
            "Epoch 89/150\n",
            "440/440 [==============================] - 3s 6ms/step - loss: 0.1838 - accuracy: 0.9222\n",
            "Epoch 90/150\n",
            "440/440 [==============================] - 3s 6ms/step - loss: 0.1911 - accuracy: 0.9183\n",
            "Epoch 91/150\n",
            "440/440 [==============================] - 3s 6ms/step - loss: 0.1851 - accuracy: 0.9188\n",
            "Epoch 92/150\n",
            "440/440 [==============================] - 4s 9ms/step - loss: 0.1813 - accuracy: 0.9217\n",
            "Epoch 93/150\n",
            "440/440 [==============================] - 3s 6ms/step - loss: 0.1809 - accuracy: 0.9239\n",
            "Epoch 94/150\n",
            "440/440 [==============================] - 3s 6ms/step - loss: 0.1830 - accuracy: 0.9219\n",
            "Epoch 95/150\n",
            "440/440 [==============================] - 3s 6ms/step - loss: 0.1730 - accuracy: 0.9261\n",
            "Epoch 96/150\n",
            "440/440 [==============================] - 3s 7ms/step - loss: 0.1764 - accuracy: 0.9260\n",
            "Epoch 97/150\n",
            "440/440 [==============================] - 4s 8ms/step - loss: 0.1706 - accuracy: 0.9296\n",
            "Epoch 98/150\n",
            "440/440 [==============================] - 3s 6ms/step - loss: 0.1701 - accuracy: 0.9284\n",
            "Epoch 99/150\n",
            "440/440 [==============================] - 3s 6ms/step - loss: 0.1645 - accuracy: 0.9311\n",
            "Epoch 100/150\n",
            "440/440 [==============================] - 3s 6ms/step - loss: 0.1684 - accuracy: 0.9296\n",
            "Epoch 101/150\n",
            "440/440 [==============================] - 3s 8ms/step - loss: 0.1705 - accuracy: 0.9288\n",
            "Epoch 102/150\n",
            "440/440 [==============================] - 3s 7ms/step - loss: 0.1811 - accuracy: 0.9231\n",
            "Epoch 103/150\n",
            "440/440 [==============================] - 3s 6ms/step - loss: 0.1593 - accuracy: 0.9331\n",
            "Epoch 104/150\n",
            "440/440 [==============================] - 3s 6ms/step - loss: 0.1554 - accuracy: 0.9343\n",
            "Epoch 105/150\n",
            "440/440 [==============================] - 3s 6ms/step - loss: 0.1530 - accuracy: 0.9358\n",
            "Epoch 106/150\n",
            "440/440 [==============================] - 4s 9ms/step - loss: 0.1569 - accuracy: 0.9351\n",
            "Epoch 107/150\n",
            "440/440 [==============================] - 3s 6ms/step - loss: 0.1590 - accuracy: 0.9319\n",
            "Epoch 108/150\n",
            "440/440 [==============================] - 3s 6ms/step - loss: 0.1552 - accuracy: 0.9339\n",
            "Epoch 109/150\n",
            "440/440 [==============================] - 3s 6ms/step - loss: 0.1557 - accuracy: 0.9348\n",
            "Epoch 110/150\n",
            "440/440 [==============================] - 3s 7ms/step - loss: 0.1630 - accuracy: 0.9312\n",
            "Epoch 111/150\n",
            "440/440 [==============================] - 3s 8ms/step - loss: 0.1639 - accuracy: 0.9303\n",
            "Epoch 112/150\n",
            "440/440 [==============================] - 3s 6ms/step - loss: 0.1531 - accuracy: 0.9345\n",
            "Epoch 113/150\n",
            "440/440 [==============================] - 3s 6ms/step - loss: 0.1599 - accuracy: 0.9322\n",
            "Epoch 114/150\n",
            "440/440 [==============================] - 3s 6ms/step - loss: 0.1461 - accuracy: 0.9387\n",
            "Epoch 115/150\n",
            "440/440 [==============================] - 4s 8ms/step - loss: 0.1433 - accuracy: 0.9420\n",
            "Epoch 116/150\n",
            "440/440 [==============================] - 3s 7ms/step - loss: 0.1685 - accuracy: 0.9309\n",
            "Epoch 117/150\n",
            "440/440 [==============================] - 3s 6ms/step - loss: 0.1506 - accuracy: 0.9379\n",
            "Epoch 118/150\n",
            "440/440 [==============================] - 3s 6ms/step - loss: 0.1387 - accuracy: 0.9435\n",
            "Epoch 119/150\n",
            "440/440 [==============================] - 3s 7ms/step - loss: 0.1390 - accuracy: 0.9437\n",
            "Epoch 120/150\n",
            "440/440 [==============================] - 4s 8ms/step - loss: 0.1373 - accuracy: 0.9412\n",
            "Epoch 121/150\n",
            "440/440 [==============================] - 3s 6ms/step - loss: 0.1465 - accuracy: 0.9395\n",
            "Epoch 122/150\n",
            "440/440 [==============================] - 3s 6ms/step - loss: 0.1575 - accuracy: 0.9350\n",
            "Epoch 123/150\n",
            "440/440 [==============================] - 3s 6ms/step - loss: 0.1339 - accuracy: 0.9456\n",
            "Epoch 124/150\n",
            "440/440 [==============================] - 3s 8ms/step - loss: 0.1330 - accuracy: 0.9466\n",
            "Epoch 125/150\n",
            "440/440 [==============================] - 3s 8ms/step - loss: 0.1521 - accuracy: 0.9368\n",
            "Epoch 126/150\n",
            "440/440 [==============================] - 3s 6ms/step - loss: 0.1357 - accuracy: 0.9439\n",
            "Epoch 127/150\n",
            "440/440 [==============================] - 3s 6ms/step - loss: 0.1288 - accuracy: 0.9472\n",
            "Epoch 128/150\n",
            "440/440 [==============================] - 3s 6ms/step - loss: 0.1292 - accuracy: 0.9470\n",
            "Epoch 129/150\n",
            "440/440 [==============================] - 4s 8ms/step - loss: 0.1383 - accuracy: 0.9442\n",
            "Epoch 130/150\n",
            "440/440 [==============================] - 3s 7ms/step - loss: 0.1509 - accuracy: 0.9365\n",
            "Epoch 131/150\n",
            "440/440 [==============================] - 3s 6ms/step - loss: 0.1349 - accuracy: 0.9430\n",
            "Epoch 132/150\n",
            "440/440 [==============================] - 3s 6ms/step - loss: 0.1296 - accuracy: 0.9470\n",
            "Epoch 133/150\n",
            "440/440 [==============================] - 3s 7ms/step - loss: 0.1260 - accuracy: 0.9483\n",
            "Epoch 134/150\n",
            "440/440 [==============================] - 4s 8ms/step - loss: 0.1328 - accuracy: 0.9444\n",
            "Epoch 135/150\n",
            "440/440 [==============================] - 3s 6ms/step - loss: 0.1365 - accuracy: 0.9445\n",
            "Epoch 136/150\n",
            "440/440 [==============================] - 3s 6ms/step - loss: 0.1277 - accuracy: 0.9491\n",
            "Epoch 137/150\n",
            "440/440 [==============================] - 3s 6ms/step - loss: 0.1185 - accuracy: 0.9526\n",
            "Epoch 138/150\n",
            "440/440 [==============================] - 3s 8ms/step - loss: 0.1248 - accuracy: 0.9481\n",
            "Epoch 139/150\n",
            "440/440 [==============================] - 3s 7ms/step - loss: 0.1252 - accuracy: 0.9492\n",
            "Epoch 140/150\n",
            "440/440 [==============================] - 3s 6ms/step - loss: 0.1834 - accuracy: 0.9266\n",
            "Epoch 141/150\n",
            "440/440 [==============================] - 3s 6ms/step - loss: 0.1231 - accuracy: 0.9498\n",
            "Epoch 142/150\n",
            "440/440 [==============================] - 3s 6ms/step - loss: 0.1174 - accuracy: 0.9511\n",
            "Epoch 143/150\n",
            "440/440 [==============================] - 4s 8ms/step - loss: 0.1114 - accuracy: 0.9543\n",
            "Epoch 144/150\n",
            "440/440 [==============================] - 3s 7ms/step - loss: 0.1113 - accuracy: 0.9544\n",
            "Epoch 145/150\n",
            "440/440 [==============================] - 3s 6ms/step - loss: 0.1237 - accuracy: 0.9485\n",
            "Epoch 146/150\n",
            "440/440 [==============================] - 3s 6ms/step - loss: 0.1252 - accuracy: 0.9481\n",
            "Epoch 147/150\n",
            "440/440 [==============================] - 3s 7ms/step - loss: 0.1146 - accuracy: 0.9527\n",
            "Epoch 148/150\n",
            "440/440 [==============================] - 4s 8ms/step - loss: 0.1119 - accuracy: 0.9561\n",
            "Epoch 149/150\n",
            "440/440 [==============================] - 3s 6ms/step - loss: 0.1131 - accuracy: 0.9541\n",
            "Epoch 150/150\n",
            "440/440 [==============================] - 3s 6ms/step - loss: 0.1646 - accuracy: 0.9340\n"
          ]
        },
        {
          "output_type": "execute_result",
          "data": {
            "text/plain": [
              "<keras.callbacks.History at 0x7f3ac1bcb4c0>"
            ]
          },
          "metadata": {},
          "execution_count": 38
        }
      ]
    },
    {
      "cell_type": "code",
      "source": [
        "loss, accuracy = rnnlstm.evaluate(x_test, y_test)\n",
        "print(\"Test Loss:\", loss)\n",
        "print(\"Test Accuracy:\", accuracy)"
      ],
      "metadata": {
        "colab": {
          "base_uri": "https://localhost:8080/"
        },
        "id": "h0GbicvRfN06",
        "outputId": "c45ce7dd-b8a2-4be0-fbbf-ee8d2757f550"
      },
      "execution_count": null,
      "outputs": [
        {
          "output_type": "stream",
          "name": "stdout",
          "text": [
            "110/110 [==============================] - 1s 5ms/step - loss: 0.7026 - accuracy: 0.8199\n",
            "Test Loss: 0.7026477456092834\n",
            "Test Accuracy: 0.8199146389961243\n"
          ]
        }
      ]
    },
    {
      "cell_type": "code",
      "source": [],
      "metadata": {
        "id": "SLlc4SWDhSbz"
      },
      "execution_count": null,
      "outputs": []
    },
    {
      "cell_type": "code",
      "source": [
        "import pandas as pd\n",
        "from sklearn.model_selection import train_test_split\n",
        "from keras.models import Sequential\n",
        "from keras.layers import Dense\n",
        "\n",
        "# Create the FNN model\n",
        "fnn = Sequential()\n",
        "fnn.add(Dense(256, input_dim=max_len, activation='relu'))\n",
        "fnn.add(Dense(128, activation='relu'))\n",
        "fnn.add(Dense(128, activation='relu'))\n",
        "fnn.add(Dense(64, activation='relu'))\n",
        "fnn.add(Dense(2, activation='sigmoid'))\n",
        "\n",
        "# Compile the model\n",
        "fnn.compile(loss='binary_crossentropy', optimizer='adam', metrics=['accuracy'])\n",
        "\n",
        "# Train the model\n",
        "fnn.fit(x_train, y_train, epochs=150, batch_size=32, validation_data=(x_test, y_test))"
      ],
      "metadata": {
        "colab": {
          "base_uri": "https://localhost:8080/"
        },
        "id": "VDbge62fDPZd",
        "outputId": "00ef9c97-0cdf-45bc-e1be-bcb69c3f8317"
      },
      "execution_count": null,
      "outputs": [
        {
          "output_type": "stream",
          "name": "stdout",
          "text": [
            "Epoch 1/150\n",
            "440/440 [==============================] - 4s 5ms/step - loss: 164.5959 - accuracy: 0.5515 - val_loss: 25.6262 - val_accuracy: 0.4509\n",
            "Epoch 2/150\n",
            "440/440 [==============================] - 2s 5ms/step - loss: 15.7165 - accuracy: 0.5807 - val_loss: 6.2700 - val_accuracy: 0.4910\n",
            "Epoch 3/150\n",
            "440/440 [==============================] - 3s 6ms/step - loss: 5.5679 - accuracy: 0.6129 - val_loss: 4.2892 - val_accuracy: 0.4990\n",
            "Epoch 4/150\n",
            "440/440 [==============================] - 2s 5ms/step - loss: 4.0239 - accuracy: 0.6195 - val_loss: 3.2221 - val_accuracy: 0.5639\n",
            "Epoch 5/150\n",
            "440/440 [==============================] - 2s 5ms/step - loss: 2.5512 - accuracy: 0.6398 - val_loss: 3.3098 - val_accuracy: 0.5881\n",
            "Epoch 6/150\n",
            "440/440 [==============================] - 2s 4ms/step - loss: 2.2605 - accuracy: 0.6506 - val_loss: 2.6369 - val_accuracy: 0.6034\n",
            "Epoch 7/150\n",
            "440/440 [==============================] - 2s 4ms/step - loss: 1.8945 - accuracy: 0.6525 - val_loss: 1.6853 - val_accuracy: 0.5940\n",
            "Epoch 8/150\n",
            "440/440 [==============================] - 2s 4ms/step - loss: 1.4958 - accuracy: 0.6639 - val_loss: 1.5116 - val_accuracy: 0.5741\n",
            "Epoch 9/150\n",
            "440/440 [==============================] - 3s 6ms/step - loss: 1.3245 - accuracy: 0.6638 - val_loss: 1.3465 - val_accuracy: 0.5789\n",
            "Epoch 10/150\n",
            "440/440 [==============================] - 2s 5ms/step - loss: 1.1569 - accuracy: 0.6648 - val_loss: 1.2492 - val_accuracy: 0.5798\n",
            "Epoch 11/150\n",
            "440/440 [==============================] - 2s 5ms/step - loss: 0.9593 - accuracy: 0.6780 - val_loss: 1.6920 - val_accuracy: 0.6117\n",
            "Epoch 12/150\n",
            "440/440 [==============================] - 2s 5ms/step - loss: 1.0358 - accuracy: 0.6602 - val_loss: 1.2498 - val_accuracy: 0.6125\n",
            "Epoch 13/150\n",
            "440/440 [==============================] - 2s 4ms/step - loss: 1.0103 - accuracy: 0.6568 - val_loss: 1.5383 - val_accuracy: 0.4572\n",
            "Epoch 14/150\n",
            "440/440 [==============================] - 2s 4ms/step - loss: 0.8361 - accuracy: 0.6691 - val_loss: 1.1741 - val_accuracy: 0.4976\n",
            "Epoch 15/150\n",
            "440/440 [==============================] - 2s 5ms/step - loss: 0.7783 - accuracy: 0.6728 - val_loss: 0.8929 - val_accuracy: 0.5849\n",
            "Epoch 16/150\n",
            "440/440 [==============================] - 3s 6ms/step - loss: 0.7490 - accuracy: 0.6769 - val_loss: 1.0942 - val_accuracy: 0.4962\n",
            "Epoch 17/150\n",
            "440/440 [==============================] - 2s 4ms/step - loss: 0.7939 - accuracy: 0.6661 - val_loss: 1.0425 - val_accuracy: 0.6273\n",
            "Epoch 18/150\n",
            "440/440 [==============================] - 2s 4ms/step - loss: 0.7082 - accuracy: 0.6792 - val_loss: 0.8136 - val_accuracy: 0.5499\n",
            "Epoch 19/150\n",
            "440/440 [==============================] - 2s 4ms/step - loss: 0.6518 - accuracy: 0.6889 - val_loss: 0.7619 - val_accuracy: 0.5770\n",
            "Epoch 20/150\n",
            "440/440 [==============================] - 2s 4ms/step - loss: 0.6838 - accuracy: 0.6824 - val_loss: 0.7295 - val_accuracy: 0.6282\n",
            "Epoch 21/150\n",
            "440/440 [==============================] - 2s 5ms/step - loss: 0.6931 - accuracy: 0.6928 - val_loss: 0.7062 - val_accuracy: 0.6199\n",
            "Epoch 22/150\n",
            "440/440 [==============================] - 3s 6ms/step - loss: 0.7268 - accuracy: 0.6760 - val_loss: 0.7228 - val_accuracy: 0.6376\n",
            "Epoch 23/150\n",
            "440/440 [==============================] - 2s 5ms/step - loss: 0.6562 - accuracy: 0.6448 - val_loss: 0.7475 - val_accuracy: 0.6174\n",
            "Epoch 24/150\n",
            "440/440 [==============================] - 2s 4ms/step - loss: 0.6531 - accuracy: 0.6294 - val_loss: 0.7229 - val_accuracy: 0.6230\n",
            "Epoch 25/150\n",
            "440/440 [==============================] - 2s 4ms/step - loss: 0.6538 - accuracy: 0.6285 - val_loss: 0.6680 - val_accuracy: 0.6233\n",
            "Epoch 26/150\n",
            "440/440 [==============================] - 2s 4ms/step - loss: 0.6541 - accuracy: 0.6298 - val_loss: 0.7468 - val_accuracy: 0.6228\n",
            "Epoch 27/150\n",
            "440/440 [==============================] - 2s 5ms/step - loss: 0.6528 - accuracy: 0.6297 - val_loss: 0.6649 - val_accuracy: 0.6228\n",
            "Epoch 28/150\n",
            "440/440 [==============================] - 2s 5ms/step - loss: 0.6528 - accuracy: 0.6290 - val_loss: 0.6796 - val_accuracy: 0.6233\n",
            "Epoch 29/150\n",
            "440/440 [==============================] - 3s 6ms/step - loss: 0.6572 - accuracy: 0.6296 - val_loss: 0.6627 - val_accuracy: 0.6225\n",
            "Epoch 30/150\n",
            "440/440 [==============================] - 2s 5ms/step - loss: 0.6635 - accuracy: 0.6294 - val_loss: 0.6650 - val_accuracy: 0.6262\n",
            "Epoch 31/150\n",
            "440/440 [==============================] - 2s 4ms/step - loss: 0.6517 - accuracy: 0.6333 - val_loss: 0.6739 - val_accuracy: 0.6327\n",
            "Epoch 32/150\n",
            "440/440 [==============================] - 2s 5ms/step - loss: 0.6656 - accuracy: 0.6341 - val_loss: 0.6597 - val_accuracy: 0.6310\n",
            "Epoch 33/150\n",
            "440/440 [==============================] - 2s 4ms/step - loss: 0.7295 - accuracy: 0.6329 - val_loss: 0.7455 - val_accuracy: 0.6256\n",
            "Epoch 34/150\n",
            "440/440 [==============================] - 2s 5ms/step - loss: 0.6665 - accuracy: 0.6279 - val_loss: 0.6629 - val_accuracy: 0.6225\n",
            "Epoch 35/150\n",
            "440/440 [==============================] - 3s 7ms/step - loss: 0.6600 - accuracy: 0.6279 - val_loss: 0.6629 - val_accuracy: 0.6225\n",
            "Epoch 36/150\n",
            "440/440 [==============================] - 2s 5ms/step - loss: 0.6596 - accuracy: 0.6282 - val_loss: 0.6617 - val_accuracy: 0.6256\n",
            "Epoch 37/150\n",
            "440/440 [==============================] - 2s 4ms/step - loss: 0.6593 - accuracy: 0.6294 - val_loss: 0.6612 - val_accuracy: 0.6256\n",
            "Epoch 38/150\n",
            "440/440 [==============================] - 2s 5ms/step - loss: 0.6589 - accuracy: 0.6295 - val_loss: 0.6643 - val_accuracy: 0.6256\n",
            "Epoch 39/150\n",
            "440/440 [==============================] - 2s 4ms/step - loss: 0.6734 - accuracy: 0.6284 - val_loss: 0.6664 - val_accuracy: 0.6225\n",
            "Epoch 40/150\n",
            "440/440 [==============================] - 2s 4ms/step - loss: 0.6620 - accuracy: 0.6279 - val_loss: 0.6628 - val_accuracy: 0.6225\n",
            "Epoch 41/150\n",
            "440/440 [==============================] - 3s 7ms/step - loss: 0.6600 - accuracy: 0.6279 - val_loss: 0.6632 - val_accuracy: 0.6225\n",
            "Epoch 42/150\n",
            "440/440 [==============================] - 2s 5ms/step - loss: 0.6601 - accuracy: 0.6279 - val_loss: 0.6628 - val_accuracy: 0.6225\n",
            "Epoch 43/150\n",
            "440/440 [==============================] - 2s 4ms/step - loss: 0.6601 - accuracy: 0.6279 - val_loss: 0.6628 - val_accuracy: 0.6225\n",
            "Epoch 44/150\n",
            "440/440 [==============================] - 2s 4ms/step - loss: 0.6601 - accuracy: 0.6279 - val_loss: 0.6630 - val_accuracy: 0.6225\n",
            "Epoch 45/150\n",
            "440/440 [==============================] - 2s 4ms/step - loss: 0.6601 - accuracy: 0.6279 - val_loss: 0.6628 - val_accuracy: 0.6225\n",
            "Epoch 46/150\n",
            "440/440 [==============================] - 2s 5ms/step - loss: 0.6600 - accuracy: 0.6279 - val_loss: 0.6628 - val_accuracy: 0.6225\n",
            "Epoch 47/150\n",
            "440/440 [==============================] - 3s 6ms/step - loss: 0.6601 - accuracy: 0.6279 - val_loss: 0.6627 - val_accuracy: 0.6225\n",
            "Epoch 48/150\n",
            "440/440 [==============================] - 3s 6ms/step - loss: 0.6601 - accuracy: 0.6279 - val_loss: 0.6630 - val_accuracy: 0.6225\n",
            "Epoch 49/150\n",
            "440/440 [==============================] - 2s 4ms/step - loss: 0.6601 - accuracy: 0.6279 - val_loss: 0.6631 - val_accuracy: 0.6225\n",
            "Epoch 50/150\n",
            "440/440 [==============================] - 2s 5ms/step - loss: 0.6601 - accuracy: 0.6278 - val_loss: 0.6628 - val_accuracy: 0.6225\n",
            "Epoch 51/150\n",
            "440/440 [==============================] - 2s 5ms/step - loss: 0.6600 - accuracy: 0.6279 - val_loss: 0.6632 - val_accuracy: 0.6225\n",
            "Epoch 52/150\n",
            "440/440 [==============================] - 2s 4ms/step - loss: 0.6601 - accuracy: 0.6279 - val_loss: 0.6629 - val_accuracy: 0.6225\n",
            "Epoch 53/150\n",
            "440/440 [==============================] - 2s 5ms/step - loss: 0.6601 - accuracy: 0.6279 - val_loss: 0.6627 - val_accuracy: 0.6225\n",
            "Epoch 54/150\n",
            "440/440 [==============================] - 3s 7ms/step - loss: 0.6667 - accuracy: 0.6279 - val_loss: 0.6629 - val_accuracy: 0.6225\n",
            "Epoch 55/150\n",
            "440/440 [==============================] - 2s 4ms/step - loss: 0.6628 - accuracy: 0.6279 - val_loss: 0.6627 - val_accuracy: 0.6225\n",
            "Epoch 56/150\n",
            "440/440 [==============================] - 2s 4ms/step - loss: 0.6601 - accuracy: 0.6279 - val_loss: 0.6627 - val_accuracy: 0.6225\n",
            "Epoch 57/150\n",
            "440/440 [==============================] - 2s 4ms/step - loss: 0.7096 - accuracy: 0.6279 - val_loss: 0.6628 - val_accuracy: 0.6225\n",
            "Epoch 58/150\n",
            "440/440 [==============================] - 2s 4ms/step - loss: 0.6601 - accuracy: 0.6278 - val_loss: 0.6629 - val_accuracy: 0.6225\n",
            "Epoch 59/150\n",
            "440/440 [==============================] - 2s 4ms/step - loss: 0.6606 - accuracy: 0.6279 - val_loss: 0.6627 - val_accuracy: 0.6225\n",
            "Epoch 60/150\n",
            "440/440 [==============================] - 3s 6ms/step - loss: 0.6601 - accuracy: 0.6279 - val_loss: 0.6634 - val_accuracy: 0.6225\n",
            "Epoch 61/150\n",
            "440/440 [==============================] - 2s 5ms/step - loss: 0.7152 - accuracy: 0.6275 - val_loss: 0.6630 - val_accuracy: 0.6225\n",
            "Epoch 62/150\n",
            "440/440 [==============================] - 2s 4ms/step - loss: 0.6602 - accuracy: 0.6279 - val_loss: 0.6627 - val_accuracy: 0.6225\n",
            "Epoch 63/150\n",
            "440/440 [==============================] - 2s 4ms/step - loss: 0.6616 - accuracy: 0.6278 - val_loss: 0.6627 - val_accuracy: 0.6225\n",
            "Epoch 64/150\n",
            "440/440 [==============================] - 2s 4ms/step - loss: 0.6601 - accuracy: 0.6279 - val_loss: 0.6627 - val_accuracy: 0.6225\n",
            "Epoch 65/150\n",
            "440/440 [==============================] - 2s 4ms/step - loss: 0.6600 - accuracy: 0.6279 - val_loss: 0.6630 - val_accuracy: 0.6225\n",
            "Epoch 66/150\n",
            "440/440 [==============================] - 2s 5ms/step - loss: 0.6601 - accuracy: 0.6279 - val_loss: 0.6628 - val_accuracy: 0.6225\n",
            "Epoch 67/150\n",
            "440/440 [==============================] - 3s 6ms/step - loss: 0.6600 - accuracy: 0.6279 - val_loss: 0.6628 - val_accuracy: 0.6225\n",
            "Epoch 68/150\n",
            "440/440 [==============================] - 2s 5ms/step - loss: 0.6601 - accuracy: 0.6279 - val_loss: 0.6627 - val_accuracy: 0.6225\n",
            "Epoch 69/150\n",
            "440/440 [==============================] - 2s 4ms/step - loss: 0.6601 - accuracy: 0.6279 - val_loss: 0.6629 - val_accuracy: 0.6225\n",
            "Epoch 70/150\n",
            "440/440 [==============================] - 2s 5ms/step - loss: 0.6601 - accuracy: 0.6279 - val_loss: 0.6627 - val_accuracy: 0.6225\n",
            "Epoch 71/150\n",
            "440/440 [==============================] - 2s 5ms/step - loss: 0.6601 - accuracy: 0.6279 - val_loss: 0.6628 - val_accuracy: 0.6225\n",
            "Epoch 72/150\n",
            "440/440 [==============================] - 2s 5ms/step - loss: 0.6601 - accuracy: 0.6279 - val_loss: 0.6630 - val_accuracy: 0.6225\n",
            "Epoch 73/150\n",
            "440/440 [==============================] - 3s 7ms/step - loss: 0.6601 - accuracy: 0.6279 - val_loss: 0.6628 - val_accuracy: 0.6225\n",
            "Epoch 74/150\n",
            "440/440 [==============================] - 2s 5ms/step - loss: 0.6601 - accuracy: 0.6279 - val_loss: 0.6628 - val_accuracy: 0.6225\n",
            "Epoch 75/150\n",
            "440/440 [==============================] - 2s 4ms/step - loss: 0.6601 - accuracy: 0.6279 - val_loss: 0.6629 - val_accuracy: 0.6222\n",
            "Epoch 76/150\n",
            "440/440 [==============================] - 2s 4ms/step - loss: 0.6601 - accuracy: 0.6279 - val_loss: 0.6628 - val_accuracy: 0.6222\n",
            "Epoch 77/150\n",
            "440/440 [==============================] - 2s 5ms/step - loss: 0.6602 - accuracy: 0.6279 - val_loss: 0.6631 - val_accuracy: 0.6222\n",
            "Epoch 78/150\n",
            "440/440 [==============================] - 2s 5ms/step - loss: 0.6602 - accuracy: 0.6279 - val_loss: 0.6629 - val_accuracy: 0.6222\n",
            "Epoch 79/150\n",
            "440/440 [==============================] - 2s 6ms/step - loss: 0.6602 - accuracy: 0.6279 - val_loss: 0.6628 - val_accuracy: 0.6222\n",
            "Epoch 80/150\n",
            "440/440 [==============================] - 2s 6ms/step - loss: 0.6601 - accuracy: 0.6279 - val_loss: 0.6632 - val_accuracy: 0.6222\n",
            "Epoch 81/150\n",
            "440/440 [==============================] - 2s 4ms/step - loss: 0.6601 - accuracy: 0.6279 - val_loss: 0.6630 - val_accuracy: 0.6222\n",
            "Epoch 82/150\n",
            "440/440 [==============================] - 2s 4ms/step - loss: 0.6602 - accuracy: 0.6279 - val_loss: 0.6631 - val_accuracy: 0.6222\n",
            "Epoch 83/150\n",
            "440/440 [==============================] - 2s 4ms/step - loss: 0.6602 - accuracy: 0.6279 - val_loss: 0.6631 - val_accuracy: 0.6222\n",
            "Epoch 84/150\n",
            "440/440 [==============================] - 2s 4ms/step - loss: 1.7037 - accuracy: 0.6275 - val_loss: 0.6637 - val_accuracy: 0.6225\n",
            "Epoch 85/150\n",
            "440/440 [==============================] - 2s 4ms/step - loss: 0.6695 - accuracy: 0.6278 - val_loss: 0.6629 - val_accuracy: 0.6225\n",
            "Epoch 86/150\n",
            "440/440 [==============================] - 3s 6ms/step - loss: 0.6601 - accuracy: 0.6279 - val_loss: 0.6629 - val_accuracy: 0.6225\n",
            "Epoch 87/150\n",
            "440/440 [==============================] - 2s 4ms/step - loss: 0.6601 - accuracy: 0.6279 - val_loss: 0.6628 - val_accuracy: 0.6225\n",
            "Epoch 88/150\n",
            "440/440 [==============================] - 2s 5ms/step - loss: 0.6600 - accuracy: 0.6279 - val_loss: 0.6627 - val_accuracy: 0.6225\n",
            "Epoch 89/150\n",
            "440/440 [==============================] - 2s 5ms/step - loss: 0.6600 - accuracy: 0.6279 - val_loss: 0.6629 - val_accuracy: 0.6225\n",
            "Epoch 90/150\n",
            "440/440 [==============================] - 2s 5ms/step - loss: 0.6654 - accuracy: 0.6276 - val_loss: 0.6629 - val_accuracy: 0.6225\n",
            "Epoch 91/150\n",
            "440/440 [==============================] - 2s 5ms/step - loss: 0.6601 - accuracy: 0.6279 - val_loss: 0.6629 - val_accuracy: 0.6225\n",
            "Epoch 92/150\n",
            "440/440 [==============================] - 3s 6ms/step - loss: 0.6711 - accuracy: 0.6279 - val_loss: 0.6627 - val_accuracy: 0.6225\n",
            "Epoch 93/150\n",
            "440/440 [==============================] - 2s 5ms/step - loss: 0.6600 - accuracy: 0.6279 - val_loss: 0.6628 - val_accuracy: 0.6225\n",
            "Epoch 94/150\n",
            "440/440 [==============================] - 2s 4ms/step - loss: 0.6603 - accuracy: 0.6279 - val_loss: 0.6628 - val_accuracy: 0.6225\n",
            "Epoch 95/150\n",
            "440/440 [==============================] - 2s 4ms/step - loss: 0.6601 - accuracy: 0.6279 - val_loss: 0.6628 - val_accuracy: 0.6225\n",
            "Epoch 96/150\n",
            "440/440 [==============================] - 2s 5ms/step - loss: 0.6600 - accuracy: 0.6279 - val_loss: 0.6628 - val_accuracy: 0.6225\n",
            "Epoch 97/150\n",
            "440/440 [==============================] - 2s 5ms/step - loss: 0.6600 - accuracy: 0.6279 - val_loss: 0.6628 - val_accuracy: 0.6225\n",
            "Epoch 98/150\n",
            "440/440 [==============================] - 3s 7ms/step - loss: 0.6600 - accuracy: 0.6279 - val_loss: 0.6628 - val_accuracy: 0.6225\n",
            "Epoch 99/150\n",
            "440/440 [==============================] - 2s 5ms/step - loss: 0.6605 - accuracy: 0.6279 - val_loss: 0.6627 - val_accuracy: 0.6225\n",
            "Epoch 100/150\n",
            "440/440 [==============================] - 2s 5ms/step - loss: 0.6601 - accuracy: 0.6279 - val_loss: 0.6627 - val_accuracy: 0.6225\n",
            "Epoch 101/150\n",
            "440/440 [==============================] - 2s 5ms/step - loss: 0.6600 - accuracy: 0.6279 - val_loss: 0.6628 - val_accuracy: 0.6225\n",
            "Epoch 102/150\n",
            "440/440 [==============================] - 2s 4ms/step - loss: 0.6600 - accuracy: 0.6279 - val_loss: 0.6628 - val_accuracy: 0.6225\n",
            "Epoch 103/150\n",
            "440/440 [==============================] - 2s 5ms/step - loss: 0.7762 - accuracy: 0.6272 - val_loss: 0.6636 - val_accuracy: 0.6222\n",
            "Epoch 104/150\n",
            "440/440 [==============================] - 3s 6ms/step - loss: 0.6604 - accuracy: 0.6277 - val_loss: 0.6632 - val_accuracy: 0.6222\n",
            "Epoch 105/150\n",
            "440/440 [==============================] - 2s 4ms/step - loss: 0.8510 - accuracy: 0.6277 - val_loss: 0.6628 - val_accuracy: 0.6225\n",
            "Epoch 106/150\n",
            "440/440 [==============================] - 2s 4ms/step - loss: 0.6684 - accuracy: 0.6279 - val_loss: 0.6627 - val_accuracy: 0.6225\n",
            "Epoch 107/150\n",
            "440/440 [==============================] - 2s 5ms/step - loss: 0.8827 - accuracy: 0.6275 - val_loss: 0.6634 - val_accuracy: 0.6222\n",
            "Epoch 108/150\n",
            "440/440 [==============================] - 2s 5ms/step - loss: 0.6742 - accuracy: 0.6277 - val_loss: 0.6629 - val_accuracy: 0.6225\n",
            "Epoch 109/150\n",
            "440/440 [==============================] - 2s 5ms/step - loss: 0.6611 - accuracy: 0.6279 - val_loss: 0.6628 - val_accuracy: 0.6225\n",
            "Epoch 110/150\n",
            "440/440 [==============================] - 3s 6ms/step - loss: 0.6601 - accuracy: 0.6279 - val_loss: 0.6628 - val_accuracy: 0.6225\n",
            "Epoch 111/150\n",
            "440/440 [==============================] - 2s 4ms/step - loss: 0.7665 - accuracy: 0.6276 - val_loss: 0.6636 - val_accuracy: 0.6225\n",
            "Epoch 112/150\n",
            "440/440 [==============================] - 2s 5ms/step - loss: 0.6604 - accuracy: 0.6278 - val_loss: 0.6628 - val_accuracy: 0.6225\n",
            "Epoch 113/150\n",
            "440/440 [==============================] - 2s 4ms/step - loss: 0.6605 - accuracy: 0.6282 - val_loss: 0.6628 - val_accuracy: 0.6225\n",
            "Epoch 114/150\n",
            "440/440 [==============================] - 2s 5ms/step - loss: 0.6601 - accuracy: 0.6279 - val_loss: 0.6627 - val_accuracy: 0.6225\n",
            "Epoch 115/150\n",
            "440/440 [==============================] - 2s 5ms/step - loss: 0.6620 - accuracy: 0.6279 - val_loss: 0.6628 - val_accuracy: 0.6225\n",
            "Epoch 116/150\n",
            "440/440 [==============================] - 3s 6ms/step - loss: 0.6600 - accuracy: 0.6279 - val_loss: 0.6628 - val_accuracy: 0.6225\n",
            "Epoch 117/150\n",
            "440/440 [==============================] - 2s 4ms/step - loss: 0.6624 - accuracy: 0.6279 - val_loss: 0.6628 - val_accuracy: 0.6225\n",
            "Epoch 118/150\n",
            "440/440 [==============================] - 2s 5ms/step - loss: 0.6600 - accuracy: 0.6279 - val_loss: 0.6627 - val_accuracy: 0.6225\n",
            "Epoch 119/150\n",
            "440/440 [==============================] - 2s 5ms/step - loss: 0.8901 - accuracy: 0.6277 - val_loss: 0.6629 - val_accuracy: 0.6225\n",
            "Epoch 120/150\n",
            "440/440 [==============================] - 2s 4ms/step - loss: 0.6775 - accuracy: 0.6278 - val_loss: 0.6628 - val_accuracy: 0.6225\n",
            "Epoch 121/150\n",
            "440/440 [==============================] - 2s 5ms/step - loss: 0.6601 - accuracy: 0.6279 - val_loss: 0.6628 - val_accuracy: 0.6225\n",
            "Epoch 122/150\n",
            "440/440 [==============================] - 3s 6ms/step - loss: 0.6668 - accuracy: 0.6278 - val_loss: 0.6630 - val_accuracy: 0.6225\n",
            "Epoch 123/150\n",
            "440/440 [==============================] - 2s 5ms/step - loss: 0.6601 - accuracy: 0.6279 - val_loss: 0.6629 - val_accuracy: 0.6225\n",
            "Epoch 124/150\n",
            "440/440 [==============================] - 2s 4ms/step - loss: 0.6600 - accuracy: 0.6279 - val_loss: 0.6628 - val_accuracy: 0.6225\n",
            "Epoch 125/150\n",
            "440/440 [==============================] - 2s 4ms/step - loss: 0.6600 - accuracy: 0.6279 - val_loss: 0.6627 - val_accuracy: 0.6225\n",
            "Epoch 126/150\n",
            "440/440 [==============================] - 2s 5ms/step - loss: 0.6600 - accuracy: 0.6279 - val_loss: 0.6628 - val_accuracy: 0.6225\n",
            "Epoch 127/150\n",
            "440/440 [==============================] - 2s 5ms/step - loss: 0.6640 - accuracy: 0.6278 - val_loss: 0.6627 - val_accuracy: 0.6225\n",
            "Epoch 128/150\n",
            "440/440 [==============================] - 3s 7ms/step - loss: 0.6601 - accuracy: 0.6279 - val_loss: 0.6627 - val_accuracy: 0.6225\n",
            "Epoch 129/150\n",
            "440/440 [==============================] - 2s 5ms/step - loss: 0.6600 - accuracy: 0.6279 - val_loss: 0.6628 - val_accuracy: 0.6225\n",
            "Epoch 130/150\n",
            "440/440 [==============================] - 2s 4ms/step - loss: 0.6600 - accuracy: 0.6279 - val_loss: 0.6627 - val_accuracy: 0.6225\n",
            "Epoch 131/150\n",
            "440/440 [==============================] - 2s 5ms/step - loss: 0.6601 - accuracy: 0.6279 - val_loss: 0.6628 - val_accuracy: 0.6225\n",
            "Epoch 132/150\n",
            "440/440 [==============================] - 2s 5ms/step - loss: 0.6600 - accuracy: 0.6279 - val_loss: 0.6627 - val_accuracy: 0.6225\n",
            "Epoch 133/150\n",
            "440/440 [==============================] - 2s 5ms/step - loss: 0.7861 - accuracy: 0.6279 - val_loss: 0.6630 - val_accuracy: 0.6225\n",
            "Epoch 134/150\n",
            "440/440 [==============================] - 3s 6ms/step - loss: 0.6602 - accuracy: 0.6279 - val_loss: 0.6627 - val_accuracy: 0.6225\n",
            "Epoch 135/150\n",
            "440/440 [==============================] - 2s 5ms/step - loss: 0.6600 - accuracy: 0.6279 - val_loss: 0.6628 - val_accuracy: 0.6225\n",
            "Epoch 136/150\n",
            "440/440 [==============================] - 2s 5ms/step - loss: 0.6600 - accuracy: 0.6279 - val_loss: 0.6628 - val_accuracy: 0.6225\n",
            "Epoch 137/150\n",
            "440/440 [==============================] - 2s 5ms/step - loss: 0.6601 - accuracy: 0.6279 - val_loss: 0.6628 - val_accuracy: 0.6225\n",
            "Epoch 138/150\n",
            "440/440 [==============================] - 2s 5ms/step - loss: 0.6600 - accuracy: 0.6279 - val_loss: 0.6627 - val_accuracy: 0.6225\n",
            "Epoch 139/150\n",
            "440/440 [==============================] - 2s 6ms/step - loss: 0.6600 - accuracy: 0.6279 - val_loss: 0.6628 - val_accuracy: 0.6225\n",
            "Epoch 140/150\n",
            "440/440 [==============================] - 3s 6ms/step - loss: 0.6600 - accuracy: 0.6279 - val_loss: 0.6627 - val_accuracy: 0.6225\n",
            "Epoch 141/150\n",
            "440/440 [==============================] - 2s 5ms/step - loss: 0.6600 - accuracy: 0.6279 - val_loss: 0.6628 - val_accuracy: 0.6225\n",
            "Epoch 142/150\n",
            "440/440 [==============================] - 2s 5ms/step - loss: 0.6600 - accuracy: 0.6279 - val_loss: 0.6629 - val_accuracy: 0.6225\n",
            "Epoch 143/150\n",
            "440/440 [==============================] - 2s 4ms/step - loss: 0.6600 - accuracy: 0.6279 - val_loss: 0.6628 - val_accuracy: 0.6225\n",
            "Epoch 144/150\n",
            "440/440 [==============================] - 2s 4ms/step - loss: 0.6600 - accuracy: 0.6279 - val_loss: 0.6628 - val_accuracy: 0.6225\n",
            "Epoch 145/150\n",
            "440/440 [==============================] - 2s 5ms/step - loss: 0.6601 - accuracy: 0.6279 - val_loss: 0.6628 - val_accuracy: 0.6225\n",
            "Epoch 146/150\n",
            "440/440 [==============================] - 3s 6ms/step - loss: 0.6600 - accuracy: 0.6279 - val_loss: 0.6627 - val_accuracy: 0.6225\n",
            "Epoch 147/150\n",
            "440/440 [==============================] - 2s 5ms/step - loss: 0.6600 - accuracy: 0.6279 - val_loss: 0.6628 - val_accuracy: 0.6225\n",
            "Epoch 148/150\n",
            "440/440 [==============================] - 2s 5ms/step - loss: 0.6601 - accuracy: 0.6279 - val_loss: 0.6628 - val_accuracy: 0.6225\n",
            "Epoch 149/150\n",
            "440/440 [==============================] - 2s 4ms/step - loss: 0.6601 - accuracy: 0.6279 - val_loss: 0.6628 - val_accuracy: 0.6225\n",
            "Epoch 150/150\n",
            "440/440 [==============================] - 2s 4ms/step - loss: 0.6600 - accuracy: 0.6279 - val_loss: 0.6629 - val_accuracy: 0.6225\n"
          ]
        },
        {
          "output_type": "execute_result",
          "data": {
            "text/plain": [
              "<keras.callbacks.History at 0x7f3b28a26a70>"
            ]
          },
          "metadata": {},
          "execution_count": 40
        }
      ]
    },
    {
      "cell_type": "code",
      "source": [
        "# Evaluate the model\n",
        "loss, accuracy = fnn.evaluate(x_test, y_test)\n",
        "print('Test Loss:', loss)\n",
        "print('Test Accuracy:', accuracy)"
      ],
      "metadata": {
        "colab": {
          "base_uri": "https://localhost:8080/"
        },
        "id": "fbnhC6LYJkCe",
        "outputId": "4d103748-7523-411e-8685-c5aeec51e221"
      },
      "execution_count": null,
      "outputs": [
        {
          "output_type": "stream",
          "name": "stdout",
          "text": [
            "110/110 [==============================] - 0s 2ms/step - loss: 0.6629 - accuracy: 0.6225\n",
            "Test Loss: 0.6629323959350586\n",
            "Test Accuracy: 0.6224750876426697\n"
          ]
        }
      ]
    },
    {
      "cell_type": "code",
      "source": [
        "#Thus, we see that using rnnlstm model is better than using fnn model for this problem"
      ],
      "metadata": {
        "id": "ig-toUV7Mq1w"
      },
      "execution_count": null,
      "outputs": []
    },
    {
      "cell_type": "code",
      "source": [],
      "metadata": {
        "id": "vRxJJ6XcM1kL"
      },
      "execution_count": null,
      "outputs": []
    },
    {
      "cell_type": "code",
      "source": [
        "#Defining the preprocessing function\n",
        "\n",
        "import re\n",
        "import nltk\n",
        "from nltk.corpus import stopwords\n",
        "from nltk.stem import PorterStemmer\n",
        "from nltk.tokenize import word_tokenize\n",
        "\n",
        "def preprocess_paragraph(paragraph):\n",
        "    # Convert to lowercase\n",
        "    paragraph = paragraph.lower()\n",
        "\n",
        "    # Remove punctuation\n",
        "    paragraph = re.sub(r'[^\\w\\s]', '', paragraph)\n",
        "\n",
        "    # Remove stopwords\n",
        "    stop_words = set(stopwords.words('english'))\n",
        "    paragraph = ' '.join(word for word in word_tokenize(paragraph) if word not in stop_words)\n",
        "\n",
        "    # Tokenize\n",
        "    tokens = word_tokenize(paragraph)\n",
        "\n",
        "    # Stemming\n",
        "    stemmer = PorterStemmer()\n",
        "    stemmed_tokens = [stemmer.stem(token) for token in tokens]\n",
        "\n",
        "    return stemmed_tokens"
      ],
      "metadata": {
        "id": "7hKYiVYchQi8"
      },
      "execution_count": null,
      "outputs": []
    },
    {
      "cell_type": "code",
      "source": [
        "#Defining the function which takes the input from the user\n",
        "\n",
        "def inputemail (x):\n",
        "    x = input('Give some content to predict weather it is Relevant or Unsolicited : ')\n",
        "    return x"
      ],
      "metadata": {
        "id": "MdDSX5NNjDIB"
      },
      "execution_count": null,
      "outputs": []
    },
    {
      "cell_type": "code",
      "source": [
        " # Take the input from the user directly\n",
        "email_text = input('Give some content to predict weather it is Relevant or Unsolicited : ')\n",
        "\n",
        "# Preprocess the input paragraph\n",
        "preprocessed_paragraph = preprocess_paragraph(email_text)\n",
        "print(preprocessed_paragraph)\n",
        "\n",
        "# Convert the preprocessed paragraph into a sequence of integers\n",
        "sequence = tokenizer.texts_to_sequences([preprocessed_paragraph])\n",
        "\n",
        "# Pad the sequence to have the same length as the training data\n",
        "padded_sequence = pad_sequences(sequence, maxlen=max_len)\n",
        "\n",
        "# Make predictions using the trained model\n",
        "predictions = rnnlstm.predict(padded_sequence)\n",
        "\n",
        "# Get the predicted class (0 for ham, 1 for spam)\n",
        "predicted_class = predictions.argmax(axis=1)[0]\n",
        "\n",
        "# Map the predicted class to 'spam' or 'ham'\n",
        "label = \"Unsolicited\" if predicted_class == 0 else \"Relevant\"\n",
        "\n",
        "# Print the predicted label\n",
        "\n",
        "print(\"Predicted label:\", label)"
      ],
      "metadata": {
        "colab": {
          "base_uri": "https://localhost:8080/"
        },
        "id": "0Bv26b2ug_r1",
        "outputId": "8f4859af-a942-43fc-eda3-a5e7ebe47df8"
      },
      "execution_count": null,
      "outputs": [
        {
          "output_type": "stream",
          "name": "stdout",
          "text": [
            "Give some content to predict weather it is Relevant or Unsolicited : Hello, trivia buffs!  You can win from a cash prize pool worth ₹12 lakhs & an internship with Tata!  The National Winner of the Quiz takes away a grand prize of ₹2.5 lakhs!  That’s right! Tata Crucible Campus Quiz 2023 is live on Unstop, with fun & challenging questions along with great prizes!  Eligibility: Full-time students from all disciplines of any under-graduation, degree, or post-graduation courses  What’s in it for you?  Internship offer* with Tata Prize pool worth ₹12 lakhs* & above for Cluster Finalists and Runners-Up Grand Prize worth ₹2.5 lakhs* for the National Winner Fabulous audience prizes* Registration Deadline: June 5, 2023 Register Now Get your quizzing streak activated & participate in India’s largest & highest-rated business quiz. Take your first step to redefine the power of knowledge!  Regards, Team Tata Crucible\n",
            "['hello', 'trivia', 'buff', 'win', 'cash', 'prize', 'pool', 'worth', '12', 'lakh', 'internship', 'tata', 'nation', 'winner', 'quiz', 'take', 'away', 'grand', 'prize', '25', 'lakh', 'that', 'right', 'tata', 'crucibl', 'campu', 'quiz', '2023', 'live', 'unstop', 'fun', 'challeng', 'question', 'along', 'great', 'prize', 'elig', 'fulltim', 'student', 'disciplin', 'undergradu', 'degre', 'postgradu', 'cours', 'what', 'internship', 'offer', 'tata', 'prize', 'pool', 'worth', '12', 'lakh', 'cluster', 'finalist', 'runnersup', 'grand', 'prize', 'worth', '25', 'lakh', 'nation', 'winner', 'fabul', 'audienc', 'prize', 'registr', 'deadlin', 'june', '5', '2023', 'regist', 'get', 'quizz', 'streak', 'activ', 'particip', 'india', 'largest', 'highestr', 'busi', 'quiz', 'take', 'first', 'step', 'redefin', 'power', 'knowledg', 'regard', 'team', 'tata', 'crucibl']\n",
            "1/1 [==============================] - 0s 22ms/step\n",
            "Predicted label: Unsolicited\n"
          ]
        }
      ]
    },
    {
      "cell_type": "code",
      "source": [
        " # Take the input from the user directly\n",
        "email_text = input('Give some content to predict weather it is Relevant or Unsolicited : ')\n",
        "\n",
        "# Preprocess the input paragraph\n",
        "preprocessed_paragraph = preprocess_paragraph(email_text)\n",
        "print(preprocessed_paragraph)\n",
        "\n",
        "# Convert the preprocessed paragraph into a sequence of integers\n",
        "sequence = tokenizer.texts_to_sequences([preprocessed_paragraph])\n",
        "\n",
        "# Pad the sequence to have the same length as the training data\n",
        "padded_sequence = pad_sequences(sequence, maxlen=max_len)\n",
        "\n",
        "# Make predictions using the trained model\n",
        "predictions = rnnlstm.predict(padded_sequence)\n",
        "\n",
        "# Get the predicted class (0 for ham, 1 for spam)\n",
        "predicted_class = predictions.argmax(axis=1)[0]\n",
        "\n",
        "# Map the predicted class to 'spam' or 'ham'\n",
        "label = \"Unsolicited\" if predicted_class == 0 else \"Relevant\"\n",
        "\n",
        "# Print the predicted label\n",
        "\n",
        "print(\"Predicted label:\", label)"
      ],
      "metadata": {
        "colab": {
          "base_uri": "https://localhost:8080/"
        },
        "id": "jewb_GBlXJMy",
        "outputId": "6b2a7a2c-56fc-4d58-d3ba-8931cadc5ff6"
      },
      "execution_count": null,
      "outputs": [
        {
          "output_type": "stream",
          "name": "stdout",
          "text": [
            "Give some content to predict weather it is Relevant or Unsolicited : Holiday for a day due to sickness. I am an employee of your company. I am sick for the past day and I am still not feeling well. I request you to give me a days leave. Thank you\n",
            "['holiday', 'day', 'due', 'sick', 'employe', 'compani', 'sick', 'past', 'day', 'still', 'feel', 'well', 'request', 'give', 'day', 'leav', 'thank']\n",
            "1/1 [==============================] - 0s 29ms/step\n",
            "Predicted label: Relevant\n"
          ]
        }
      ]
    }
  ]
}